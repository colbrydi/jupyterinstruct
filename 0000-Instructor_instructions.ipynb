{
 "cells": [
  {
   "cell_type": "markdown",
   "metadata": {},
   "source": [
    "# Using the JupyterInstruct Library\n",
    "\n",
    "The JupyterInstruct library is designed for INSTRUCTORS to organize and adjust course curriculum. Each assignment is given it's own jupyter notebook and all student reading, videos, images are included in the notebook.  Each notebook also contains notes for instructors that will be automatically removed. \n",
    "\n",
    "* Student curriculum - This is the main content of the notebooks.  The intention is for these notebooks to contain all resources students need for the course.\n",
    "* Instructor Notes and Answers - Each notebook also contains instructor notes and answers using the ###ANSWER### tag.  any cell that contains the ###ANSWER### tag will be removed when automatically generating the student version of the notebook.\n",
    "* Information tags - Each course can include a ```thiscourse.py``` file which populates a dictionary of \"tags\". The tag key is a tag string (typically uppercase) such as ```GITURL``` and the tag value is a string. When generating the student version of a notebook the code will search for tag serounded by ```###``` escape charicters (ex. ```###GITURL###``` and replace each instance with the string. ```."
   ]
  },
  {
   "cell_type": "markdown",
   "metadata": {},
   "source": [
    "## Filenames\n",
    "In addition to the above features, the JupyterInstruct library also has some prefered filenames. These filenames are not required but can help during semester migration of the course:\n",
    "\n",
    "* It is highly recommmended that every file that uses the JupyterInstruct library end with \"INSTRUCTOR.ipynb\". Although not required this filename tag will help distinguish between instructor and student versions of the files. \n",
    "* **Dated Notebook files** - Files that start with a \"MMDD\" (Month, date string) are given a special tag which includes the long form for the due date.  This format of the filename makes it extreamly easy to migrate between the semesters and will help students by including due date instructions inside each notebook. However, this format will cause trouble if there is more than one section that meets on different days.  \n",
    "* **Module Notebook files** - Files with the \"NN\" (Module number) format work best for courses with multiple sections meeting on multiple due dates.  This format looses the due date information but gains in some flexibility. \n",
    "* Files can use any other prefix and it will be interpreted as such."
   ]
  },
  {
   "cell_type": "markdown",
   "metadata": {},
   "source": [
    "## Course Repository\n",
    "\n",
    "It is assumed that each course will use a private course repository to store the INSTRUCTOR notebooks.  Student notebooks are generated from the instructor and therefore should NOT be included in the INSTRUCTOR repository.  There are two techniques for sharing student notebooks with a class:\n",
    "\n",
    "* **Student Git Repository** - In more advanced programming courses instructors may choose to share course content with students using git.  We recommend creating a subfolder inside the INSTRUCTOR folder that is it's own repository. For example in a course such as CMSE802 the the main directory may be CMSE802 and the subdirectory may be CMSE802_F20\n",
    "\n",
    "    CMSE802\n",
    "        \n",
    "        -- CMSE802_F20\n",
    "        \n",
    "* **Sharing via github.io** - Instructors may also choose to share the notebooks via github.io website.  "
   ]
  },
  {
   "cell_type": "markdown",
   "metadata": {},
   "source": [
    "## Renaming Files\n",
    "\n",
    "\n",
    "It is possible to include links inside a jupyternotebook for a local file.  These links are relative to the current directory and depend on a notebook's filename.  If an instructor renames a file there is a good chance it could break some of these links.  Using the following rename functions will automatically rename the file and update any links in the current directory.\n",
    "\n",
    "### Dated Notebook Files\n",
    "This rename works if you just want to rename based on the date string (actually any 4-digit prefix). "
   ]
  },
  {
   "cell_type": "code",
   "execution_count": 1,
   "metadata": {},
   "outputs": [
    {
     "name": "stdout",
     "output_type": "stream",
     "text": [
      "getting name\n"
     ]
    },
    {
     "data": {
      "application/javascript": [
       "Jupyter.notebook.kernel.execute(\"this_notebook = \" + \"'\"+Jupyter.notebook.notebook_name+\"'\");"
      ],
      "text/plain": [
       "<IPython.core.display.Javascript object>"
      ]
     },
     "metadata": {},
     "output_type": "display_data"
    },
    {
     "name": "stdout",
     "output_type": "stream",
     "text": [
      "TEST: git mv 0112--Software_Review_pre-class-assignment-INSTRUCTOR.ipynb 0112--Software_Review_pre-class-assignment-INSTRUCTOR.ipynb \n",
      "TEST: Student File Reference in 0000-Class_planning_notes_INSTRUCTOR.ipynb\n",
      "TEST: Student File Reference in 0112--Software_Review_pre-class-assignment-INSTRUCTOR.ipynb\n",
      "TEST: Student File Reference in 0113-Dwarfs_in-class-assignment-INSTRUCTOR.ipynb\n"
     ]
    }
   ],
   "source": [
    "###TODO: Rename this to renamebydate\n",
    "\n",
    "from jupyterinstruct import jupytermigrate\n",
    "jupytermigrate.notebook('0112--Software_Review_pre-class-assignment-INSTRUCTOR.ipynb',\n",
    "                        '0112', \n",
    "                        False)"
   ]
  },
  {
   "cell_type": "markdown",
   "metadata": {},
   "source": [
    "## Rename any notebook file\n",
    "This will rename the entire file name."
   ]
  },
  {
   "cell_type": "code",
   "execution_count": 2,
   "metadata": {},
   "outputs": [
    {
     "name": "stdout",
     "output_type": "stream",
     "text": [
      "ERROR: File 1124-Binary_Morphology-pre-class-assignment-INSTRUCTOR.ipynb not found in directory\n"
     ]
    }
   ],
   "source": [
    "from jupyterinstruct import jupytermigrate\n",
    "jupytermigrate.renamefile('1124-Binary_Morphology-pre-class-assignment-INSTRUCTOR.ipynb',\n",
    "                          'xxxx-Binary_Morphology-pre-class-assignment-INSTRUCTOR.ipynb',\n",
    "                          False)"
   ]
  },
  {
   "cell_type": "markdown",
   "metadata": {},
   "source": [
    "# Semester Migration\n",
    "\n",
    "The following bits of code use the above function and are designed to run on an entire INSTRUCTOR notebook directory.  \n",
    "## Shift Due Dates\n",
    "\n",
    "The follow, loops though files in the current directory of date based jupyternotebook files and adjusts their date by number of days.  Don't forget leap years.  "
   ]
  },
  {
   "cell_type": "code",
   "execution_count": null,
   "metadata": {
    "code_folding": []
   },
   "outputs": [],
   "source": [
    "from pathlib import Path\n",
    "from jupyterinstruct import jupytermigrate\n",
    "from jupyterinstruct.nbfilename import nbfilename\n",
    "\n",
    "files = Path('.').glob('*.ipynb')\n",
    "renamefiles = False\n",
    "\n",
    "for file in files:\n",
    "    file = str(file)\n",
    "    nbfile = nbfilename(file)\n",
    "    if nbfile.isDate:\n",
    "        nbfile.adjustdays(365+4)\n",
    "        jupytermigrate.renamefile(file,str(nbfile), renamefiles)"
   ]
  },
  {
   "cell_type": "markdown",
   "metadata": {},
   "source": [
    "## Search for and Remove Cells\n",
    "\n",
    "The following code will search for cells with the provided search string and delete them.  There are also functions to delete the cell and all cells from the beginning of the notebook or from the cell to the end of the notebook."
   ]
  },
  {
   "cell_type": "markdown",
   "metadata": {},
   "source": [
    "## Add Header Footer\n",
    "\n",
    "The following code will add headers and footer cells to a notebook. Default header hame is Header.py and default Footer name is Footer.ipynb"
   ]
  },
  {
   "cell_type": "code",
   "execution_count": null,
   "metadata": {
    "scrolled": true
   },
   "outputs": [],
   "source": [
    "from headerfooter import header_footer\n",
    "header_footer(filename)"
   ]
  },
  {
   "cell_type": "code",
   "execution_count": null,
   "metadata": {},
   "outputs": [],
   "source": [
    "from makeindex import makeindex\n",
    "makeindex(filename)"
   ]
  },
  {
   "cell_type": "code",
   "execution_count": null,
   "metadata": {},
   "outputs": [],
   "source": [
    "o_dates = old_dates.split('\\n')\n",
    "n_dates = new_dates.split('\\n')"
   ]
  },
  {
   "cell_type": "code",
   "execution_count": null,
   "metadata": {
    "code_folding": []
   },
   "outputs": [],
   "source": [
    "from jupyterinstruct import jupytermigrate\n",
    "from pathlib import Path\n",
    "\n",
    "P = Path('.')\n",
    "allfiles = set(P.glob(f\"*.ipynb\"))\n",
    "\n",
    "for date,new in zip(o_dates,n_dates):\n",
    "    names = P.glob(f\"{date}*.ipynb\")\n",
    "    name = ''\n",
    "    for file in names:\n",
    "        name = file\n",
    "    for file in allfiles:\n",
    "        if file == name:\n",
    "            print(f\"{name} {date} {new}\")\n",
    "            jupytermigrate.notebook(str(name),new,False)"
   ]
  },
  {
   "cell_type": "code",
   "execution_count": null,
   "metadata": {},
   "outputs": [],
   "source": [
    "name = P.glob('0107*')\n",
    "for file in name:\n",
    "    print(file)"
   ]
  },
  {
   "cell_type": "code",
   "execution_count": null,
   "metadata": {},
   "outputs": [],
   "source": [
    "name[0]"
   ]
  }
 ],
 "metadata": {
  "kernelspec": {
   "display_name": "Python 3",
   "language": "python",
   "name": "python3"
  },
  "language_info": {
   "codemirror_mode": {
    "name": "ipython",
    "version": 3
   },
   "file_extension": ".py",
   "mimetype": "text/x-python",
   "name": "python",
   "nbconvert_exporter": "python",
   "pygments_lexer": "ipython3",
   "version": "3.7.6"
  }
 },
 "nbformat": 4,
 "nbformat_minor": 4
}
