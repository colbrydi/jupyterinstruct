{
 "cells": [
  {
   "cell_type": "markdown",
   "metadata": {},
   "source": [
    "[Link to this notebook](https://raw.githubusercontent.com/colbrydi/jupyterinstruct/master/Examples.ipynb)"
   ]
  },
  {
   "cell_type": "markdown",
   "metadata": {},
   "source": [
    "# Examples\n",
    "\n",
    "This notebook contains simple examples for using the JupyterInstruct python package.  Not all features are included but some basic ones are hear to help get people started."
   ]
  },
  {
   "cell_type": "markdown",
   "metadata": {},
   "source": [
    "# 1. Validating Notebooks\n",
    "\n",
    "Run the following code to validate a notebook.  This python file has the least amount of internal dependances and should be easy to use on it's own.  "
   ]
  },
  {
   "cell_type": "code",
   "execution_count": null,
   "metadata": {},
   "outputs": [],
   "source": [
    "from jupyterinstruct.nbvalidate import validate\n",
    "validate(\"Accessable_Jupyter_content_for_INSTRUCTORS.ipynb\")"
   ]
  },
  {
   "cell_type": "markdown",
   "metadata": {},
   "source": [
    "# 2. Answer Cells\n",
    "\n",
    "One key aspect of Instructor notebooks is the use of ANSWER cells.  These are cells that are avaliable in the instructor version but are deleted entirely from the student version. An answer cell is any cell containing the \\#\\#ANSWER\\#\\# hashtag.  For clarity the hashtag is included at the beginning and end of each ANSWER cell to make it clear to future readers what will NOT be included. For example:"
   ]
  },
  {
   "cell_type": "code",
   "execution_count": null,
   "metadata": {},
   "outputs": [],
   "source": [
    "##ANSWER##\n",
    "\n",
    "print(\"this is an example code cell which will not be included in the student version\")\n",
    "\n",
    "##ANSWER##"
   ]
  },
  {
   "cell_type": "markdown",
   "metadata": {},
   "source": [
    "##ANSWER##\n",
    "\n",
    "Here is an example markdown cell that will not be included in the student version.\n",
    "\n",
    "##ANSWER##"
   ]
  },
  {
   "cell_type": "markdown",
   "metadata": {},
   "source": [
    "To convert from the Instructor notebook to the student notebook and strip out the ANSWER cells use the following command:"
   ]
  },
  {
   "cell_type": "code",
   "execution_count": null,
   "metadata": {},
   "outputs": [],
   "source": [
    "filename=\"Examples.ipynb\"\n",
    "\n",
    "from jupyterinstruct.InstructorNotebook import makestudent\n",
    "makestudent(filename, studentfolder='./docs/')"
   ]
  },
  {
   "cell_type": "markdown",
   "metadata": {},
   "source": [
    "**_CAUTION__** Make sure you save your notebook file before trying to generate the student version.  "
   ]
  },
  {
   "cell_type": "markdown",
   "metadata": {},
   "source": [
    "# 3. Content tags\n",
    "\n",
    "Some content often changes semester to semester. to help facilitate content that changes a tag based merge option is include.  Tags are just dictionaries with key values that are strings representing the tag name and values representing the content to be incerted inside the tag.  Here is an example tag dictionary:"
   ]
  },
  {
   "cell_type": "code",
   "execution_count": null,
   "metadata": {},
   "outputs": [],
   "source": [
    "tags = {'YEAR': '2021', \n",
    "        'Semester': 'Spring',\n",
    "        'Instructor':'Dirk Colbry',\n",
    "        'Classroom':'On-Line'}"
   ]
  },
  {
   "cell_type": "markdown",
   "metadata": {},
   "source": [
    "Tags are denoted inside a jupyter notebook document using three has tags (\\#\\#\\#) followed by the tag name and then three more hash tags (\\#\\#\\#).  For example:\n",
    "\n",
    "### Welcome to ###Semester### semester ###YEAR### of CMSE101.  \n",
    "Your instructor is ###Instructor### and you will be meeting ###Classroom###."
   ]
  },
  {
   "cell_type": "code",
   "execution_count": null,
   "metadata": {},
   "outputs": [],
   "source": [
    "filename=\"Examples.ipynb\"\n",
    "\n",
    "from jupyterinstruct.InstructorNotebook import makestudent\n",
    "makestudent(filename, './docs/', tags)"
   ]
  },
  {
   "cell_type": "markdown",
   "metadata": {},
   "source": [
    "### Special Tags\n",
    "\n",
    "There are a few special tags that can be included in notebooks these include:\n",
    "\n",
    "- Empty Tags including **ENDHEADER** and **STARTFOOTER**. These tages typically have an empty string as a value and just get deleted from the student version.  They are used as placeholders or other features.\n",
    "- YEAR tag - As shown above the year tag can help create a long form of data which include days of the week.  This allows notebooks to be stored in a MMDD (Month, Day) prefix format.\n",
    "- The **LINKS** tag is the only tage to store a list instead of a string.  The list allows common links to be grouped together.\n",
    "- The **NEW_ASSIGNMENT** is the name of the student file.\n",
    "\n",
    "For example:"
   ]
  },
  {
   "cell_type": "code",
   "execution_count": null,
   "metadata": {},
   "outputs": [],
   "source": [
    "tags = {'YEAR': '2021', \n",
    "        'Semester': 'Spring',\n",
    "        'Instructor':'Dirk Colbry',\n",
    "        'Classroom':'On-Line',\n",
    "        'LINKS': ['Website', 'GitHub', 'Instructor_Website'],\n",
    "        'Website': 'https://colbrydi.github.io/jupyterinstruct/',\n",
    "        'GitHub': 'https://github.com/colbrydi/jupyterinstruct',\n",
    "        'Instructor_Website': 'http://www.dirk.colbry.com/',\n",
    "        'ENDHEADER': '',\n",
    "        'STARTFOOTER': ''}"
   ]
  },
  {
   "cell_type": "markdown",
   "metadata": {},
   "source": [
    "This file is called ###NEW_ASSIGNMENT###\n",
    "\n",
    "Here are some important links:\n",
    "\n",
    "###LINKS###"
   ]
  },
  {
   "cell_type": "code",
   "execution_count": null,
   "metadata": {},
   "outputs": [],
   "source": [
    "filename=\"Examples.ipynb\"\n",
    "\n",
    "from jupyterinstruct.InstructorNotebook import makestudent\n",
    "makestudent(filename, './docs/', tags)"
   ]
  },
  {
   "cell_type": "markdown",
   "metadata": {},
   "source": [
    "### Course Tag files\n",
    "\n",
    "Typically tags used for a course are stored in a course tag file.  this way all the notebooks can access the same file and changes only need to be made in one location.  Typically this file is stored in the main course directory and has the name ```thiscourse.py```.  An example file is as follows"
   ]
  },
  {
   "cell_type": "code",
   "execution_count": 4,
   "metadata": {},
   "outputs": [
    {
     "name": "stdout",
     "output_type": "stream",
     "text": [
      "Overwriting thiscourse.py\n"
     ]
    }
   ],
   "source": [
    "%%writefile thiscourse.py\n",
    "def tags():\n",
    "    tags=dict()\n",
    "    tags['COURSE_CODE']='CMSE401'\n",
    "    tags['YEAR']='2021'\n",
    "    tags['LINKS']=['Website','GitHub']\n",
    "    tags['TOC']=''\n",
    "    tags['TODO']=''\n",
    "    tags['Syllabus']=''\n",
    "    tags['Schedule']=''\n",
    "    tags['D2L']=''\n",
    "    tags['ZOOM']=''\n",
    "    tags['SLACK']=''\n",
    "    tags['LinkText']='Link to this document\\'s Jupyter Notebook'\n",
    "    tags['LINKURL']='https://raw.githubusercontent.com/colbrydi/jupyterinstruct/master/'\n",
    "    tags['Website']='https://colbrydi.github.io/jupyterinstruct/'\n",
    "    tags['GitHub'] = 'https://github.com/colbrydi/jupyterinstruct'\n",
    "    tags['ENDHEADER']=''\n",
    "    tags['STARTFOOTER']=''\n",
    "    tags['Semester']='Spring'\n",
    "    tags['Instructor']='Dirk Colbry'\n",
    "    tags['Classroom']='On-Line'\n",
    "    return tags\n"
   ]
  },
  {
   "cell_type": "markdown",
   "metadata": {},
   "source": [
    "To use these tags the notebook only needs to import the course file"
   ]
  },
  {
   "cell_type": "code",
   "execution_count": 5,
   "metadata": {},
   "outputs": [
    {
     "data": {
      "text/plain": [
       "{'COURSE_CODE': 'CMSE401',\n",
       " 'YEAR': '2021',\n",
       " 'LINKS': ['Website', 'GitHub'],\n",
       " 'TOC': '',\n",
       " 'TODO': '',\n",
       " 'Syllabus': '',\n",
       " 'Schedule': '',\n",
       " 'D2L': '',\n",
       " 'ZOOM': '',\n",
       " 'SLACK': '',\n",
       " 'LinkText': \"Link to this document's Jupyter Notebook\",\n",
       " 'LINKURL': 'https://raw.githubusercontent.com/colbrydi/jupyterinstruct/master/',\n",
       " 'Website': 'https://colbrydi.github.io/jupyterinstruct/',\n",
       " 'GitHub': 'https://github.com/colbrydi/jupyterinstruct',\n",
       " 'ENDHEADER': '',\n",
       " 'STARTFOOTER': '',\n",
       " 'Semester': 'Spring',\n",
       " 'Instructor': 'Dirk Colbry',\n",
       " 'Classroom': 'On-Line'}"
      ]
     },
     "execution_count": 5,
     "metadata": {},
     "output_type": "execute_result"
    }
   ],
   "source": [
    "import thiscourse\n",
    "tags = thiscourse.tags()\n",
    "tags"
   ]
  },
  {
   "cell_type": "markdown",
   "metadata": {},
   "source": [
    "# 4. Self Referncing Files\n",
    "\n",
    "Jupyter instruct often will work best as commands included inside the instructor notebooks.  This allows instructors to easily publish a notebook the are working on from within the notebook. the trick to make this work is that the notebook needs to know the file name.  This requires running some embeded javascript inside the notebook.  Fortunatly, just loading thelibrary will run that command and store the current notebook in a variable called ```this_notebook``` (You can also just use the ```InstructorNotebook.getname()``` function).  \n",
    "\n",
    "**_WARNING_** Since this function uses javascript you need to get the name in a different cell and wait to use the name."
   ]
  },
  {
   "cell_type": "code",
   "execution_count": 6,
   "metadata": {},
   "outputs": [],
   "source": [
    "##ANSWER## \n",
    "#this cell gets the name of the current notebook.\n",
    "from jupyterinstruct import InstructorNotebook\n",
    "##ANSWER## "
   ]
  },
  {
   "cell_type": "code",
   "execution_count": 7,
   "metadata": {},
   "outputs": [
    {
     "name": "stdout",
     "output_type": "stream",
     "text": [
      "Examples.ipynb\n"
     ]
    }
   ],
   "source": [
    "##ANSWER##\n",
    "print(this_notebook)\n",
    "##ANSWER##"
   ]
  },
  {
   "cell_type": "markdown",
   "metadata": {},
   "source": [
    "Once you have the notebook (and have imported the course tag files) you can generate the student version of the current notebook and validate it using the following command:"
   ]
  },
  {
   "cell_type": "code",
   "execution_count": 8,
   "metadata": {},
   "outputs": [
    {
     "data": {
      "application/javascript": [
       "IPython.notebook.save_notebook()"
      ]
     },
     "metadata": {},
     "output_type": "display_data"
    },
    {
     "name": "stdout",
     "output_type": "stream",
     "text": [
      "Myfilename Examples.ipynb\n"
     ]
    },
    {
     "data": {
      "application/javascript": [
       "IPython.notebook.save_notebook()"
      ]
     },
     "metadata": {},
     "output_type": "display_data"
    },
    {
     "name": "stdout",
     "output_type": "stream",
     "text": [
      "Examples.ipynb\n",
      "WARNING: file may be changing Examples.ipynb != None\n"
     ]
    },
    {
     "data": {
      "text/html": [
       "<a href=./docs/Examples.ipynb target=\"blank\">./docs/Examples.ipynb</a>"
      ],
      "text/plain": [
       "<IPython.core.display.HTML object>"
      ]
     },
     "metadata": {},
     "output_type": "display_data"
    },
    {
     "name": "stdout",
     "output_type": "stream",
     "text": [
      "Validating Notebook ./docs/Examples.ipynb\n",
      "   File Doesn't Exist - ./docs/Examples.ipynb\n",
      "   File Doesn't Exist - ./docs/Examples.ipynb\n",
      "   File Doesn't Exist - ./docs/Examples.ipynb\n"
     ]
    },
    {
     "data": {
      "text/plain": [
       "3"
      ]
     },
     "execution_count": 8,
     "metadata": {},
     "output_type": "execute_result"
    }
   ],
   "source": [
    "##ANSWER## \n",
    "#This cell runs the converter which removes ANSWER feilds, renames the notebook and cleans out output fields. \n",
    "studentnotebook = InstructorNotebook.makestudent(this_notebook, \"./docs/\", tags)\n",
    "InstructorNotebook.validate(studentnotebook)\n",
    "##ANSWER## "
   ]
  },
  {
   "cell_type": "markdown",
   "metadata": {},
   "source": [
    "Written by Dr. Dirk Colbry, Michigan State University\n",
    "<a rel=\"license\" href=\"http://creativecommons.org/licenses/by-nc/4.0/\"><img alt=\"Creative Commons License\" style=\"border-width:0\" src=\"https://i.creativecommons.org/l/by-nc/4.0/88x31.png\" /></a><br />This work is licensed under a <a rel=\"license\" href=\"http://creativecommons.org/licenses/by-nc/4.0/\">Creative Commons Attribution-NonCommercial 4.0 International License</a>."
   ]
  },
  {
   "cell_type": "markdown",
   "metadata": {},
   "source": [
    "---"
   ]
  }
 ],
 "metadata": {
  "kernelspec": {
   "display_name": "Python 3",
   "language": "python",
   "name": "python3"
  },
  "language_info": {
   "codemirror_mode": {
    "name": "ipython",
    "version": 3
   },
   "file_extension": ".py",
   "mimetype": "text/x-python",
   "name": "python",
   "nbconvert_exporter": "python",
   "pygments_lexer": "ipython3",
   "version": "3.8.2"
  }
 },
 "nbformat": 4,
 "nbformat_minor": 4
}
