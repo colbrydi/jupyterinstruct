{
 "cells": [
  {
   "cell_type": "markdown",
   "metadata": {},
   "source": [
    "## Testing remove function "
   ]
  },
  {
   "cell_type": "code",
   "execution_count": null,
   "metadata": {
    "scrolled": true
   },
   "outputs": [],
   "source": [
    "from jupyterinstruct import InstructorNotebook as inb"
   ]
  },
  {
   "cell_type": "code",
   "execution_count": null,
   "metadata": {},
   "outputs": [],
   "source": [
    "this_notebook"
   ]
  },
  {
   "cell_type": "code",
   "execution_count": null,
   "metadata": {},
   "outputs": [],
   "source": [
    "x = inb.InstructorNB(filename=this_notebook)"
   ]
  },
  {
   "cell_type": "code",
   "execution_count": null,
   "metadata": {},
   "outputs": [],
   "source": [
    "x.writenotebook('temp.ipynb')"
   ]
  },
  {
   "cell_type": "code",
   "execution_count": null,
   "metadata": {},
   "outputs": [],
   "source": []
  },
  {
   "cell_type": "code",
   "execution_count": 1,
   "metadata": {},
   "outputs": [
    {
     "name": "stdout",
     "output_type": "stream",
     "text": [
      "getting name\n"
     ]
    },
    {
     "data": {
      "application/javascript": [
       "Jupyter.notebook.kernel.execute(\"this_notebook = \" + \"'\"+Jupyter.notebook.notebook_name+\"'\");"
      ],
      "text/plain": [
       "<IPython.core.display.Javascript object>"
      ]
     },
     "metadata": {},
     "output_type": "display_data"
    },
    {
     "data": {
      "application/javascript": [
       "Jupyter.notebook.kernel.execute(\"this_notebook = \" + \"'\"+Jupyter.notebook.notebook_name+\"'\");"
      ],
      "text/plain": [
       "<IPython.core.display.Javascript object>"
      ]
     },
     "metadata": {},
     "output_type": "display_data"
    },
    {
     "name": "stdout",
     "output_type": "stream",
     "text": [
      "Myfilename 1022-in-class-assignment-INSTRUCTOR.ipynb\n",
      "REMOVING f{'cell_type': 'markdown', 'metadata': {}, 'source': '<p style=\"text-align: right;\">\\nIn order to successfully complete this assignment you need to participate both individually and in groups during class on **Friday January 11th**.\\n</p>'}\n",
      "REMOVING f{'cell_type': 'markdown', 'metadata': {}, 'source': '&#169; Copyright 2019,  Michigan State University Board of Trustees'}\n",
      "REMOVING f{'cell_type': 'markdown', 'metadata': {}, 'source': '\\n**Course Resources:**\\n- [Syllabus](https://tinyurl.com/y75cnzam)\\n- [Preliminary Schedule](https://tinyurl.com/CMSE314-Schedule)\\n- [Git Repository](https://gitlab.msu.edu/colbrydi/cmse401-s19)\\n- [Jargon Jar and Command History](https://tinyurl.com/CMSE314-JargonJar) \\n\\n'}\n",
      "REMOVING f{'cell_type': 'markdown', 'metadata': {}, 'source': \"-----\\n### Congratulations, we're done!\"}\n"
     ]
    }
   ],
   "source": [
    "from jupyterinstruct import InstructorNotebook as inb\n",
    "filename = '1022-in-class-assignment-INSTRUCTOR.ipynb'\n",
    "nb = inb.InstructorNB(filename=filename)\n",
    "nb.removecells('In order to successfully complete this assignment')\n",
    "nb.removecells('&#169; Copyright')\n",
    "nb.removecells('https://tinyurl.com/CMSE314-Schedule')\n",
    "nb.removecells('Congratulations, we\\'re done!')\n",
    "nb.headerfooter()\n",
    "\n",
    "tags = { 'TESTTAG':'Successful merge'}\n",
    "nb.mergetags(tags)\n",
    "\n",
    "nb.writenotebook('temp.ipynb')"
   ]
  },
  {
   "cell_type": "code",
   "execution_count": 2,
   "metadata": {},
   "outputs": [
    {
     "name": "stdout",
     "output_type": "stream",
     "text": [
      "def tags():\n",
      "    tags = {}\n",
      "    tags['LinkText']=''\n",
      "    tags['LINKURL']=''\n",
      "    tags['NEW_ASSIGNMENT']=''\n",
      "    tags['StartInClass']=''\n",
      "    tags['END_HEADER']=''\n",
      "    tags['START_FOOTER']=''\n",
      "    tags['EndInClass']=''\n",
      "    tags['LINKS']=''\n",
      "    return tags\n",
      "\n",
      "\n"
     ]
    }
   ],
   "source": [
    "print(nb.gen_thiscourse_py())"
   ]
  },
  {
   "cell_type": "code",
   "execution_count": null,
   "metadata": {},
   "outputs": [],
   "source": []
  },
  {
   "cell_type": "code",
   "execution_count": null,
   "metadata": {},
   "outputs": [],
   "source": [
    "import re\n",
    "re.findall('X', 'This is X and it friend X')"
   ]
  },
  {
   "cell_type": "code",
   "execution_count": null,
   "metadata": {},
   "outputs": [],
   "source": [
    "from jupyterinstruct import InstructorNotebook as inb\n",
    "filename = 'temp.ipynb'\n",
    "nb = inb.InstructorNB(filename=filename)\n",
    "nb.removeafter()\n",
    "nb.removebefore()\n",
    "nb.writenotebook('temp.ipynb')"
   ]
  },
  {
   "cell_type": "markdown",
   "metadata": {},
   "source": [
    "##ANSWER##\n",
    "\n",
    "This is an answer cell \n",
    "\n",
    "\n",
    "##ANSWER##"
   ]
  },
  {
   "cell_type": "markdown",
   "metadata": {},
   "source": [
    "# NAME TESTING"
   ]
  },
  {
   "cell_type": "code",
   "execution_count": null,
   "metadata": {},
   "outputs": [],
   "source": [
    "\n",
    "from jupyterinstruct.nbfilename import nbfilename"
   ]
  },
  {
   "cell_type": "code",
   "execution_count": null,
   "metadata": {},
   "outputs": [],
   "source": [
    "filename = this_notebook\n",
    "x = nbfilename(filename)\n",
    "new = x.makestring()\n",
    "print(filename)\n",
    "print(new)\n"
   ]
  },
  {
   "cell_type": "code",
   "execution_count": null,
   "metadata": {},
   "outputs": [],
   "source": [
    "filename = \"1212-test.ipynb\"\n",
    "x = nbfilename(filename)\n",
    "new = x.makestring()\n",
    "print(filename)\n",
    "print(new)"
   ]
  },
  {
   "cell_type": "code",
   "execution_count": null,
   "metadata": {},
   "outputs": [],
   "source": [
    "filename = \"test.ipynb\"\n",
    "x = nbfilename(filename)\n",
    "new = x.makestring()\n",
    "print(filename)\n",
    "print(new)\n"
   ]
  },
  {
   "cell_type": "code",
   "execution_count": null,
   "metadata": {},
   "outputs": [],
   "source": [
    "filename = \"01-test-INSTRUCTOR.ipynb\"\n",
    "x = nbfilename(filename)\n",
    "new = x.makestring()\n",
    "print(filename)\n",
    "print(new)\n"
   ]
  },
  {
   "cell_type": "code",
   "execution_count": null,
   "metadata": {},
   "outputs": [],
   "source": [
    "filename = \"0130_Software_Review_in-class-assignment-INSTRUCTOR.ipynb\"\n",
    "x = nbfilename(filename)\n",
    "new = x.makestring()\n",
    "print(filename)\n",
    "print(new)\n"
   ]
  },
  {
   "cell_type": "code",
   "execution_count": null,
   "metadata": {
    "scrolled": true
   },
   "outputs": [],
   "source": [
    "x.day += 6\n",
    "print(x.makestring())\n",
    "print(x.getlongdate())"
   ]
  },
  {
   "cell_type": "code",
   "execution_count": null,
   "metadata": {},
   "outputs": [],
   "source": [
    "x.isInClass = True\n",
    "x.isPreClass = False\n",
    "print(x.makestring())"
   ]
  },
  {
   "cell_type": "code",
   "execution_count": null,
   "metadata": {},
   "outputs": [],
   "source": []
  }
 ],
 "metadata": {
  "kernelspec": {
   "display_name": "Python 3",
   "language": "python",
   "name": "python3"
  },
  "language_info": {
   "codemirror_mode": {
    "name": "ipython",
    "version": 3
   },
   "file_extension": ".py",
   "mimetype": "text/x-python",
   "name": "python",
   "nbconvert_exporter": "python",
   "pygments_lexer": "ipython3",
   "version": "3.7.3"
  }
 },
 "nbformat": 4,
 "nbformat_minor": 2
}
