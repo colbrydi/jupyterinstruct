{
 "cells": [
  {
   "cell_type": "markdown",
   "metadata": {},
   "source": [
    "##ANSWER##\n",
    "\n",
    "This template is intended to help instructors create pre-class assignments.  It is good practice to follow the same template during an entire course so students can become familiar on where to find information.\n",
    "\n",
    "Note:  Cells that begin and end with the ANSWER tag and include two hashtags (```##```) before and after (such as this cell) will automatically be stripped out in the student version of the file. Thy are intended to include instructor notes and answer information and are not shared with the students.  \n",
    "\n",
    "\n",
    "##ANSWER##"
   ]
  },
  {
   "cell_type": "markdown",
   "metadata": {},
   "source": [
    "In order to successfully complete this assignment you must do the required reading, watch the provided videos and complete all instructions.  The embedded Google form must be entirely filled out and submitted on or before **11:59pm on ###DUE_DATE###**.  Students must come to class the next day prepared to discuss the material covered in this assignment. answer"
   ]
  },
  {
   "cell_type": "markdown",
   "metadata": {},
   "source": [
    "##ANSWER##\n",
    "\n",
    "The very first non-ANSWER cell of a Jupyter notebook (see above) should be the overall instructions and the due date.  Student's get credit for these pre-class assignments by filling out a google form at the end of the pre-class (they do not turn in the jupyter notebook). This is done to help in grading and scaling.  The DUE_DATE tag (with three hashtags ```###``` before and after) is automatically calculated using the name of the notebook which should start with four digits MMDD (MONTH, DAY).\n",
    "\n",
    "##ANSWER##"
   ]
  },
  {
   "cell_type": "markdown",
   "metadata": {},
   "source": [
    "# Pre-Class Assignment: Template Instructions\n",
    "\n",
    "\n",
    "The title should always include a header (one hashtag ```#```) and a short description about the goals of the assignment.  The single hashtag is important because it indicates to screen readers that the title is a high level header.  \n",
    "\n",
    "I typically do not include a picture in the pre-class assignments as a way to differentiate them to the in-class assignments (which always include a picture). However, that is just a preference. \n",
    "\n"
   ]
  },
  {
   "cell_type": "markdown",
   "metadata": {},
   "source": [
    "### Goals for today's pre-class assignment \n",
    "\n",
    "</p>\n",
    "\n",
    "###TOC###\n",
    "\n",
    "1. [Template Design](#Template_Design)\n",
    "1. [Naming the pre-class assignment file](#Naming_the_pre-class_assignment_file)\n",
    "2. [Section_Headers_and_Formatting the Table of Contents](#Section_Headers_and_Formatting_the_Table_of_Contents)\n",
    "3. [Accessable Content](#Accessable_Content)\n",
    "5. [Wrapping up the INSTRUCTOR notebook and the assignment](#Wrapping_up_the_INSTRUCTOR_notebook_and_the_assignment)\n",
    "4. [Assignment wrap-up](#Assignment_wrap-up)"
   ]
  },
  {
   "cell_type": "markdown",
   "metadata": {},
   "source": [
    "---\n",
    "<a name=\"Template_Design\"></a>\n",
    "# 1. Template Design\n",
    "\n",
    "Included with this template is a python library called ```jupyterinstruct``` this library is an integration of many tools to simplify the creation of notebooks.  The main idea behind jupyterinstruct is to store all information about an assignment in a SINGLE notebook called (and named) the INSTRUDCTOR notebook and then let ```jupyterinstruct``` convert the notebook into a Student version.   This conversion is achieved by running the two cells at the bottom of the template (more information can be found there)\n",
    "\n",
    "\n",
    "As best as possible this template uses, headers, links and math in a way that is accessable to the most students.  Notes are contained within the template to help the instructor maintain accessability.\n"
   ]
  },
  {
   "cell_type": "markdown",
   "metadata": {},
   "source": [
    "---\n",
    "<a name=\"Naming_the_pre-class_assignment_file\"></a>\n",
    "# 2. Naming the pre-class assignment file\n",
    "\n",
    "To start, copy this file and rename it using the following format:\n",
    "\n",
    "    MMDD-SHORT_NAME-pre-class-assignment-INSTRUCTOR.ipynb\n",
    "    \n",
    "The **MMDD** is the month and date the assignment is DUE.   As mentioned above, this date string will be used to populate the  DUE_DATE tag (with three hashtags ```#``` before and after).  This is a big help when designing and reusing notebooks. Instructors only need to change the filename to change when an assignment is due within a semester. This name format also lists the assignments in order inside a student's directory.  The big problem with this format is for classes that have section which use the same assignment due on different days. \n",
    "\n",
    "The **SHORT_NAME** is just a quick memory device to help the instructor and the student remember the content's of the file.  \n",
    "\n",
    "The **INSTRUCTOR** tag is there as a reminder that the file should not be shared with students.  This part of the name will automatically be removed when the student version is created. \n",
    "\n",
    "**Filenames should not include any spaces** - spaces in filenames do not always work the same way on different computer's and different operating systems. It is generally best to avoid spaces."
   ]
  },
  {
   "cell_type": "markdown",
   "metadata": {},
   "source": [
    "---\n",
    "<a name=\"Section_Headers_and_Formatting_the_Table_of_Contents\"></a>\n",
    "\n",
    "# 3. Section Headers and Formatting the Table of Contents\n",
    "\n",
    "Each assignment section should start with a line break, an Anchor link and a title with a single hashtag (```#```).  The following is an example for the current section:\n",
    "    \n",
    "    ---\n",
    "    <a name=\"Formatting_the_Table_of_Contents\"></a>\n",
    "    # 3. Section Headers and Formatting the Table of Contents\n",
    "\n",
    "* The three dashes give a visual separation to the sections. This is not really required but can help segment really long assignments. \n",
    "* The link tag ```<a>``` is an anchor tag and allows the notebook to link to this section in the table of contents. The anchor name should be the same as the section name with underlines instead of spaces.  This naming convention is much easier on screen readers. \n",
    "\n",
    "The table of contents (TOC) is extremely helpful for many students to navigate notebooks (especially if they are long). The TOC also provides a nice overview for students to help them understand the parts/learning goals of the assignment or when they are trying to look things up.  However, constructing the TOC can be tedious and requires a lot of cut/paste and testing to make sure there are no errors.  The basic format of the TOC is a numbered list and a markdown link that connects the TOC to the Anchor links in the sections. For example, the TOC link for this section can be written as follows (in markdown):\n",
    "\n",
    "    2. [Section_Headers_and_Formatting the Table of Contents](#Section_Headers_and_Formatting_the_Table_of_Contents)\n",
    "\n",
    "\n",
    "Note that in markdown the number an instructor types does not matter. Jupyter will automatically renumber the list. However, this renumbering does not match up to the section title so instructors must go back though the document and make sure the numbers listed in the sections line up with the numbers in the TOC\n",
    "\n"
   ]
  },
  {
   "cell_type": "markdown",
   "metadata": {},
   "source": [
    "----\n",
    "<a name=\"Accessable_Content\"></a>\n",
    "\n",
    "# 4. Accessable Content\n",
    "\n",
    "For detailed information about how to add images, equations, videos and more please refer to the [Assessable_Jupyter_content_for_INSTRUCTORS](Assessable_Jupyter_content_for_INSTRUCTORS.ipynb) file."
   ]
  },
  {
   "cell_type": "markdown",
   "metadata": {},
   "source": [
    "---\n",
    "<a href=\"Wrapping_up_the_INSTRUCTOR_notebook_and_the_assignment.\"></a>\n",
    "\n",
    "# 5. Wrapping up the INSTRUCTOR notebook and the assignment.\n",
    "\n",
    "The following set of lines are written in such a way as they can by copied and pasted to the end of each pre-class instructor notebook with minimal changes.  Further instructions are not included in these cells to avoid clutter.  "
   ]
  },
  {
   "cell_type": "markdown",
   "metadata": {},
   "source": [
    "----\n",
    "<a name=\"Assignment_wrap-up\"></a>\n",
    "# 6. Assignment wrap-up\n",
    "\n",
    "Please fill out the form that appears when you run the code below.  **You must completely fill this out in order to receive credit for the assignment!**\n",
    "\n",
    "[Direct Link to Google Form](https://cmse.msu.edu/cmse802-pc-survey)\n",
    "\n",
    "\n",
    "If you have trouble with the embedded form, please make sure you log on with your MSU google account at [googleapps.msu.edu](https://googleapps.msu.edu) and then click on the direct link above."
   ]
  },
  {
   "cell_type": "markdown",
   "metadata": {},
   "source": [
    "&#9989; <font color=red>**Assignment-Specific QUESTION:**</font> There is no Assignment specific question for this notebook. You can just say \"none\"."
   ]
  },
  {
   "cell_type": "markdown",
   "metadata": {},
   "source": [
    "Put your answer to the above question here"
   ]
  },
  {
   "cell_type": "markdown",
   "metadata": {},
   "source": [
    "&#9989; <font color=red>**QUESTION:**</font>  Summarize what you did in this assignment."
   ]
  },
  {
   "cell_type": "markdown",
   "metadata": {},
   "source": [
    "Put your answer to the above question here"
   ]
  },
  {
   "cell_type": "markdown",
   "metadata": {},
   "source": [
    "&#9989; <font color=red>**QUESTION:**</font>  What questions do you have, if any, about any of the topics discussed in this assignment after working through the jupyter notebook?"
   ]
  },
  {
   "cell_type": "markdown",
   "metadata": {},
   "source": [
    "Put your answer to the above question here"
   ]
  },
  {
   "cell_type": "markdown",
   "metadata": {},
   "source": [
    "&#9989; <font color=red>**QUESTION:**</font>  How well do you feel this assignment helped you to achieve a better understanding of the above mentioned topic(s)?"
   ]
  },
  {
   "cell_type": "markdown",
   "metadata": {},
   "source": [
    "Put your answer to the above question here"
   ]
  },
  {
   "cell_type": "markdown",
   "metadata": {},
   "source": [
    "&#9989; <font color=red>**QUESTION:**</font> What was the **most** challenging part of this assignment for you? "
   ]
  },
  {
   "cell_type": "markdown",
   "metadata": {},
   "source": [
    "Put your answer to the above question here"
   ]
  },
  {
   "cell_type": "markdown",
   "metadata": {},
   "source": [
    "&#9989; <font color=red>**QUESTION:**</font> What was the **least** challenging part of this assignment for you? "
   ]
  },
  {
   "cell_type": "markdown",
   "metadata": {},
   "source": [
    "Put your answer to the above question here"
   ]
  },
  {
   "cell_type": "markdown",
   "metadata": {},
   "source": [
    "&#9989; <font color=red>**QUESTION:**</font>  What kind of additional questions or support, if any, do you feel you need to have a better understanding of the content in this assignment?"
   ]
  },
  {
   "cell_type": "markdown",
   "metadata": {},
   "source": [
    "Put your answer to the above question here"
   ]
  },
  {
   "cell_type": "markdown",
   "metadata": {},
   "source": [
    "&#9989; <font color=red>**QUESTION:**</font>  Do you have any further questions or comments about this material, or anything else that's going on in class?"
   ]
  },
  {
   "cell_type": "markdown",
   "metadata": {},
   "source": [
    "Put your answer to the above question here"
   ]
  },
  {
   "cell_type": "markdown",
   "metadata": {},
   "source": [
    "&#9989; <font color=red>**QUESTION:**</font> Approximately how long did this pre-class assignment take?"
   ]
  },
  {
   "cell_type": "markdown",
   "metadata": {},
   "source": [
    "Put your answer to the above question here"
   ]
  },
  {
   "cell_type": "code",
   "execution_count": null,
   "metadata": {},
   "outputs": [],
   "source": [
    "from IPython.display import HTML\n",
    "HTML(\n",
    "\"\"\"\n",
    "<iframe \n",
    "\tsrc=\"https://cmse.msu.edu/cmse802-pc-survey?embedded=true\" \n",
    "\twidth=\"100%\" \n",
    "\theight=\"1200px\" \n",
    "\tframeborder=\"0\" \n",
    "\tmarginheight=\"0\" \n",
    "\tmarginwidth=\"0\">\n",
    "\tLoading...\n",
    "</iframe>\n",
    "\"\"\"\n",
    ")"
   ]
  },
  {
   "cell_type": "markdown",
   "metadata": {},
   "source": [
    "---------\n",
    "### Congratulations, we're done!\n",
    "\n",
    "To get credit for this assignment you must fill out and submit the above Google From on or before the assignment due date."
   ]
  },
  {
   "cell_type": "markdown",
   "metadata": {},
   "source": [
    "### Course Resources:\n",
    "\n",
    "- [Syllabus](###SYLLABUS###)\n",
    "- [Preliminary Schedule](###SCHEDULE###)\n",
    "- [Course D2L Page](###D2L###)"
   ]
  },
  {
   "cell_type": "code",
   "execution_count": 1,
   "metadata": {
    "scrolled": true
   },
   "outputs": [
    {
     "data": {
      "application/javascript": [
       "Jupyter.notebook.kernel.execute(\"this_notebook = \" + \"'\"+Jupyter.notebook.notebook_name+\"'\");"
      ],
      "text/plain": [
       "<IPython.core.display.Javascript object>"
      ]
     },
     "metadata": {},
     "output_type": "display_data"
    }
   ],
   "source": [
    "##ANSWER## \n",
    "#this cell gets the name of the current notebook.\n",
    "from jupyterinstruct import makestudent \n",
    "makestudent.getname()\n",
    "\n",
    "import thiscourse\n",
    "tags = thiscourse.tags()\n",
    "##ANSWER## "
   ]
  },
  {
   "cell_type": "code",
   "execution_count": 2,
   "metadata": {
    "scrolled": true
   },
   "outputs": [
    {
     "data": {
      "application/javascript": [
       "IPython.notebook.save_notebook()"
      ]
     },
     "metadata": {},
     "output_type": "display_data"
    },
    {
     "name": "stdout",
     "output_type": "stream",
     "text": [
      "Date not found\n",
      "Removing existing student version\n",
      "Finding and replacing mailmerge tags\n",
      "    \"\\n\",\n",
      "\n",
      "    \"The table of contents (TOC) is extremely helpful for many students to navigate notebooks (especially if they are long). The TOC also provides a nice overview for students to help them understand the parts/learning goals of the assignment or when they are trying to look things up.  However, constructing the TOC can be tedious and requires a lot of cut/paste and testing to make sure there are no errors.  The basic format of the TOC is a numbered list and a markdown link that connects the TOC to the Anchor links in the sections. For example, the TOC link for this section can be written as follows (in markdown):\\n\",\n",
      "\n",
      "    \"Note that in markdown the number an instructor types does not matter. Jupyter will automatically renumber the list. However, this renumbering does not match up to the section title so instructors must go back though the document and make sure the numbers listed in the sections line up with the numbers in the TOC\\n\",\n",
      "\n",
      "    \"- [Syllabus](https://docs.google.com/document/d/e/2PACX-1vQtsgisIDXRDgQIRoOQpeWcbqZ1jbBkoi0nwQ7PERvPRU1viQ9DkZZ1D6zoOoT8PbZYJbd1vdMUuQOH/pub)\\n\",\n",
      "\n",
      "    \"- [Preliminary Schedule](https://docs.google.com/spreadsheets/d/e/2PACX-1vQy-oyD66kwNi7UNEVOgXp8QWUaCPF2gZTuinvWulyT-W7xqn-VgWbEbA3XlG9x1Ew-iV5hkVd5VXqE/pubhtml)\\n\",\n",
      "\n",
      "    \"- [Course D2L Page](https://d2l.msu.edu/d2l/home/823481)\"\n",
      "\n",
      "Moving to working directory\n",
      "Striping output cells\n"
     ]
    },
    {
     "data": {
      "text/html": [
       "<a href=./CMSE802/TEMPLATE--pre-class-assignment.ipynb target=\"blank\">TEMPLATE--pre-class-assignment.ipynb</a>"
      ],
      "text/plain": [
       "<IPython.core.display.HTML object>"
      ]
     },
     "metadata": {},
     "output_type": "display_data"
    }
   ],
   "source": [
    "##ANSWER## \n",
    "#This cell runs the converter which removes ANSWER feilds, renames the notebook and cleans out output fields. \n",
    "makestudent.merge(this_notebook, \"./\"+tags['COURSE_CODE']+\"/\", tags)\n",
    "##ANSWER## "
   ]
  },
  {
   "cell_type": "markdown",
   "metadata": {},
   "source": [
    "&#169; Copyright 2019,  Michigan State University Board of Trustees"
   ]
  }
 ],
 "metadata": {
  "anaconda-cloud": {},
  "kernelspec": {
   "display_name": "Python 3",
   "language": "python",
   "name": "python3"
  },
  "language_info": {
   "codemirror_mode": {
    "name": "ipython",
    "version": 3
   },
   "file_extension": ".py",
   "mimetype": "text/x-python",
   "name": "python",
   "nbconvert_exporter": "python",
   "pygments_lexer": "ipython3",
   "version": "3.7.3"
  }
 },
 "nbformat": 4,
 "nbformat_minor": 2
}
