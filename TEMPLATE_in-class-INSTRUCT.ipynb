{
 "cells": [
  {
   "cell_type": "markdown",
   "metadata": {},
   "source": [
    "##ANSWER##\n",
    "\n",
    "This template is intended to help instructors create pre-class assignments.  It is good practice to follow the same template during an entire course so students can become familiar on where to find information.\n",
    "\n",
    "Note:  Cells that begin and end with the ANSWER tag and include two hashtags (```##```) before and after (such as this cell) will automatically be stripped out in the student version of the file. Thy are intended to include instructor notes and answer information and are not shared with the students.  \n",
    "\n",
    "\n",
    "##ANSWER##"
   ]
  },
  {
   "cell_type": "markdown",
   "metadata": {},
   "source": [
    "In order to successfully complete this assignment you need to participate both individually and in groups during class on **###DUE_DATE###**."
   ]
  },
  {
   "cell_type": "markdown",
   "metadata": {},
   "source": [
    "##ANSWER##\n",
    "\n",
    "The very first non-ANSWER cell of a Jupyter notebook (see above) should be the overall instructions and the due date.  Student's get credit for these in-class assignments by attending and participating in class. Nothing is turned in. This is done to help in grading and scaling.  The DUE_DATE tag (with three hashtags ```###``` before and after) is automatically calculated using the name of the notebook which should start with four digits MMDD (MONTH, DAY).\n",
    "\n",
    "##ANSWER##"
   ]
  },
  {
   "cell_type": "markdown",
   "metadata": {},
   "source": [
    "# In-Class Assignment: Instructor template\n",
    "\n",
    "\n",
    "The title should always include a header (one hashtag ```#```) and a short description about the goals of the assignment.  The single hashtag is important because it indicates to screen readers that the title is a high level header.  \n",
    "\n",
    "I typically include a unique picture for each in-class assignment. THis allows me to put the assignment on the overhead during the beginning of class and give somehting for students to look at as they  not include a picture in the pre-class assignments as a way to differentiate them to the in-class assignments (which always include a picture). However, that is just a preference. \n",
    "\n",
    "\n",
    "\n",
    "<img alt=\"Image of a multi-headed Hydra. Designed to represent parallel codes\" src=\"https://upload.wikimedia.org/wikipedia/commons/d/d3/IBM_Blue_Gene_P_supercomputer.jpg\">\n",
    "\n",
    "Image From: https://en.wikipedia.org/wiki/Hydra"
   ]
  },
  {
   "cell_type": "markdown",
   "metadata": {},
   "source": [
    "### Agenda for today's class (80 minutes)\n",
    "\n",
    "</p>\n",
    "\n",
    "###TOC###\n",
    "\n",
    "\n",
    "1. [(20 minutes) Review Hybrid Codes](#T1)\n",
    "2. [(20 minutes) How to run Hybrid MPI/OpenMP code on the HPCC](#T2)\n",
    "1. [(30 minutes) Benchmark](#T3)"
   ]
  },
  {
   "cell_type": "code",
   "execution_count": null,
   "metadata": {},
   "outputs": [],
   "source": [
    "%matplotlib inline\n",
    "import matplotlib.pylab as plt\n",
    "import numpy as np\n",
    "import sympy as sym\n",
    "sym.init_printing(use_unicode=True) #Used to make equations/Matrices look nice"
   ]
  },
  {
   "cell_type": "code",
   "execution_count": null,
   "metadata": {
    "scrolled": true
   },
   "outputs": [],
   "source": [
    "A = np.matrix([[5, -2, 2], [4, -3, 4], [4,-6,7]])\n",
    "sym.Matrix(A)"
   ]
  },
  {
   "cell_type": "markdown",
   "metadata": {},
   "source": [
    "Example matrix notation:\n",
    "\n",
    "$$ \n",
    "\\left[\n",
    "\\begin{matrix}\n",
    "    1   & 0 & 4  \\\\\n",
    "    0   & 2 & -2  \\\\\n",
    "    0   & 1 & 2 \n",
    " \\end{matrix}\n",
    "\\, \\middle\\vert \\,\n",
    "\\begin{matrix}\n",
    "-10 \\\\ 3 \\\\ 1\n",
    "\\end{matrix}\n",
    "\\right] \n",
    "$$"
   ]
  },
  {
   "cell_type": "markdown",
   "metadata": {},
   "source": [
    "----\n",
    "<a name=\"T1\"></a>\n",
    "# 1. Review Hybrid Codes \n",
    "\n",
    "&#9989; <font color=red>**DO THIS:**</font> Examine the **Pandemic** code in the BCCD directory.  Specifically look at the MAKEFILE and see how the hybrid code is implemented/compiled.\n",
    "\n",
    "&#9989; <font color=red>**DO THIS:**</font> Examine the **Life** code in the BCCD directory.  Specifically look at the MAKEFILE and see how the hybrid code is implemented/compiled."
   ]
  },
  {
   "cell_type": "markdown",
   "metadata": {},
   "source": [
    "&#9989; <font color=red>**QUESTION:**</font> This seems like a lot of work, Why would you every implement a hybrid code?"
   ]
  },
  {
   "cell_type": "markdown",
   "metadata": {},
   "source": [
    "Put the answer to the above question here."
   ]
  },
  {
   "cell_type": "markdown",
   "metadata": {},
   "source": [
    "----\n",
    "<a name=\"T2\"></a>\n",
    "# 2. How to run Hybrid MPI/OpenMP code on the HPCC\n",
    "\n",
    "&#9989; <font color=red>**DO THIS:**</font> Write a submission script to run either the hybrid **Pandemic** or the **Life code** on the HPCC.\n",
    "\n",
    "&#9989; <font color=red>**QUESTION:**</font>  What SLURM settings are needed to control a hybrid code?"
   ]
  },
  {
   "cell_type": "markdown",
   "metadata": {},
   "source": [
    "Put the answer to the above question here."
   ]
  },
  {
   "cell_type": "markdown",
   "metadata": {},
   "source": [
    "&#9989; <font color=red>**QUESTION:**</font> How do we know that the submission script is working?"
   ]
  },
  {
   "cell_type": "markdown",
   "metadata": {},
   "source": [
    "Put the answer to the above question here."
   ]
  },
  {
   "cell_type": "markdown",
   "metadata": {},
   "source": [
    "##ANSWER##\n",
    "\n",
    "```bash\n",
    "#!/bin/bash\n",
    "#SBATCH -n 10\n",
    "#SBATCH -c 7\n",
    "#SBATCH --time=3:00:00\n",
    "\n",
    "# Set OMP_NUM_THREADS to the same value as -c\n",
    "# with a fallback in case it isn't set.\n",
    "# SLURM_CPUS_PER_TASK is set to the value of -c, but only if -c is explicitly set\n",
    "if [ -n ${SLURM_CPUS_PER_TASK} ]\n",
    "then\n",
    "  omp_threads=${SLURM_CPUS_PER_TASK}\n",
    "else\n",
    "  omp_threads=1\n",
    "fi\n",
    "export OMP_NUM_THREADS=${omp_threads}\n",
    "\n",
    "#End of submit file\n",
    "\n",
    "echo \"==========================\"\n",
    "env | grep SLURM \n",
    "echo \"==========================\"\n",
    "cat $0\n",
    "echo \"==========================\"\n",
    "time srun ./Life.c-mpi-openmp -r 1000 -c 1000 -g 1000 -o life.out \n",
    "\n",
    " ```\n",
    " ##ANSWER##"
   ]
  },
  {
   "cell_type": "code",
   "execution_count": null,
   "metadata": {},
   "outputs": [],
   "source": [
    "%%writefile temp.txt\n",
    "\n",
    "Example file writing \n",
    "\n"
   ]
  },
  {
   "cell_type": "code",
   "execution_count": null,
   "metadata": {},
   "outputs": [],
   "source": [
    "#example running bash command\n",
    "!rm temp.txt"
   ]
  },
  {
   "cell_type": "markdown",
   "metadata": {},
   "source": [
    "---\n",
    "<a name=\"T3\"></a>\n",
    "# 3. Benchmark\n",
    "\n",
    "&#9989; <font color=red>**DO THIS:**</font> Change the inputs to the code such that it will run around 1 minute on a single core. \n",
    "\n",
    "&#9989; <font color=red>**QUESTION:**</font> what did you change and how long did it take to run on a single core?"
   ]
  },
  {
   "cell_type": "markdown",
   "metadata": {},
   "source": [
    "Put the answer to the above question here."
   ]
  },
  {
   "cell_type": "markdown",
   "metadata": {},
   "source": [
    "&#9989; <font color=red>**DO THIS:**</font> If we want to try all possible numbers of MPI and OpenMP threads to see what is fastest.  If we only do up to 10 each this will be 100 different benchmarks.  Instead lets compare 10 threads of MPI, 10 threads of openMP vs 1 thread."
   ]
  },
  {
   "cell_type": "markdown",
   "metadata": {},
   "source": [
    "&#9989; <font color=red>**QUESTION:**</font> How big should the hybrid code be to have an advantage over an MPI only code?"
   ]
  },
  {
   "cell_type": "markdown",
   "metadata": {},
   "source": [
    "Put the answer to the above question here."
   ]
  },
  {
   "cell_type": "markdown",
   "metadata": {},
   "source": [
    "&#9989; <font color=red>**QUESTION:**</font> How big should the hybrid code be to have an advantage over an MPI only code?"
   ]
  },
  {
   "cell_type": "markdown",
   "metadata": {},
   "source": [
    "Put the answer to the above question here."
   ]
  },
  {
   "cell_type": "markdown",
   "metadata": {},
   "source": [
    "&#9989; <font color=red>**QUESTION:**</font> How big should the hybrid code be to have an advantage over an OpenMP only code?"
   ]
  },
  {
   "cell_type": "markdown",
   "metadata": {},
   "source": [
    "-----\n",
    "### Congratulations, we're done!"
   ]
  },
  {
   "cell_type": "markdown",
   "metadata": {},
   "source": [
    "### Course Resources:\n",
    "\n",
    "- [Syllabus](###SYLLABUS###)\n",
    "- [Preliminary Schedule](###SCHEDULE###)\n",
    "- [D2L Page](###D2L###)\n",
    "- [Git Repository](###GIT###)"
   ]
  },
  {
   "cell_type": "code",
   "execution_count": 1,
   "metadata": {
    "scrolled": true
   },
   "outputs": [
    {
     "name": "stdout",
     "output_type": "stream",
     "text": [
      "working\n"
     ]
    },
    {
     "data": {
      "application/javascript": [
       "Jupyter.notebook.kernel.execute(\"this_notebook = \" + \"'\"+Jupyter.notebook.notebook_name+\"'\");"
      ],
      "text/plain": [
       "<IPython.core.display.Javascript object>"
      ]
     },
     "metadata": {},
     "output_type": "display_data"
    }
   ],
   "source": [
    "##ANSWER## \n",
    "#this cell gets the name of the current notebook.\n",
    "from jupyterinstruct import makestudent \n",
    "makestudent.getname()\n",
    "\n",
    "import thiscourse\n",
    "tags = thiscourse.tags()\n",
    "##ANSWER## "
   ]
  },
  {
   "cell_type": "code",
   "execution_count": null,
   "metadata": {
    "scrolled": true
   },
   "outputs": [],
   "source": [
    "##ANSWER## \n",
    "#This cell runs the converter which removes ANSWER feilds, renames the notebook and cleans out output fields. \n",
    "makestudent.merge(this_notebook, \"./\"+tags['COURSE_CODE']+\"/\", tags)\n",
    "##ANSWER## "
   ]
  },
  {
   "cell_type": "markdown",
   "metadata": {},
   "source": [
    "&#169; Copyright 2019,  Michigan State University Board of Trustees"
   ]
  }
 ],
 "metadata": {
  "kernelspec": {
   "display_name": "Python 3",
   "language": "python",
   "name": "python3"
  },
  "language_info": {
   "codemirror_mode": {
    "name": "ipython",
    "version": 3
   },
   "file_extension": ".py",
   "mimetype": "text/x-python",
   "name": "python",
   "nbconvert_exporter": "python",
   "pygments_lexer": "ipython3",
   "version": "3.7.3"
  }
 },
 "nbformat": 4,
 "nbformat_minor": 2
}
