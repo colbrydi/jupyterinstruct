{
 "cells": [
  {
   "cell_type": "markdown",
   "metadata": {},
   "source": [
    "##ANSWER##\n",
    "\n",
    "Class notes and learning goals\n",
    "\n",
    "##ANSSER##"
   ]
  },
  {
   "cell_type": "markdown",
   "metadata": {},
   "source": [
    "In order to successfully complete this assignment you need to participate both individually and in groups during class on **###DUE_DATE###**."
   ]
  },
  {
   "cell_type": "markdown",
   "metadata": {},
   "source": [
    "# In-Class Assignment: Hybrid Codes\n",
    "\n",
    "<img alt=\"Image of a multi-headed Hydra. Designed to represent parallel codes\" src=\"https://upload.wikimedia.org/wikipedia/commons/2/24/Hydra1.gif\">\n",
    "\n",
    "Image From: https://en.wikipedia.org/wiki/Hydra"
   ]
  },
  {
   "cell_type": "markdown",
   "metadata": {},
   "source": [
    "### Agenda for today's class (70 minutes)\n",
    "\n",
    "</p>\n",
    "\n",
    "1. [(20 minutes) Review Hybrid Codes](#T1)\n",
    "2. [(20 minutes) How to run Hybrid MPI/OpenMP code on the HPCC](#T2)\n",
    "1. [(30 minutes) Benchmark](#T3)"
   ]
  },
  {
   "cell_type": "code",
   "execution_count": null,
   "metadata": {},
   "outputs": [],
   "source": [
    "%matplotlib inline\n",
    "import matplotlib.pylab as plt\n",
    "import numpy as np\n",
    "import sympy as sym\n",
    "sym.init_printing(use_unicode=True) #Used to make equations/Matrices look nice"
   ]
  },
  {
   "cell_type": "code",
   "execution_count": null,
   "metadata": {
    "scrolled": true
   },
   "outputs": [],
   "source": [
    "A = np.matrix([[5, -2, 2], [4, -3, 4], [4,-6,7]])\n",
    "sym.Matrix(A)"
   ]
  },
  {
   "cell_type": "markdown",
   "metadata": {},
   "source": [
    "Example matrix notation:\n",
    "\n",
    "$$ \n",
    "\\left[\n",
    "\\begin{matrix}\n",
    "    1   & 0 & 4  \\\\\n",
    "    0   & 2 & -2  \\\\\n",
    "    0   & 1 & 2 \n",
    " \\end{matrix}\n",
    "\\, \\middle\\vert \\,\n",
    "\\begin{matrix}\n",
    "-10 \\\\ 3 \\\\ 1\n",
    "\\end{matrix}\n",
    "\\right] \n",
    "$$"
   ]
  },
  {
   "cell_type": "markdown",
   "metadata": {},
   "source": [
    "----\n",
    "<a name=\"T1\"></a>\n",
    "# 1. Review Hybrid Codes \n",
    "\n",
    "&#9989; <font color=red>**DO THIS:**</font> Examine the **Pandemic** code in the BCCD directory.  Specifically look at the MAKEFILE and see how the hybrid code is implemented/compiled.\n",
    "\n",
    "&#9989; <font color=red>**DO THIS:**</font> Examine the **Life** code in the BCCD directory.  Specifically look at the MAKEFILE and see how the hybrid code is implemented/compiled."
   ]
  },
  {
   "cell_type": "markdown",
   "metadata": {},
   "source": [
    "&#9989; <font color=red>**QUESTION:**</font> This seems like a lot of work, Why would you every implement a hybrid code?"
   ]
  },
  {
   "cell_type": "markdown",
   "metadata": {},
   "source": [
    "Put the answer to the above question here."
   ]
  },
  {
   "cell_type": "markdown",
   "metadata": {},
   "source": [
    "----\n",
    "<a name=\"T2\"></a>\n",
    "\n",
    "# 2. How to run Hybrid MPI/OpenMP code on the HPCC\n",
    "\n",
    "&#9989; <font color=red>**DO THIS:**</font> Write a submission script to run either the hybrid **Pandemic** or the **Life code** on the HPCC.\n",
    "\n",
    "&#9989; <font color=red>**QUESTION:**</font>  What SLURM settings are needed to control a hybrid code?"
   ]
  },
  {
   "cell_type": "markdown",
   "metadata": {},
   "source": [
    "Put the answer to the above question here."
   ]
  },
  {
   "cell_type": "markdown",
   "metadata": {},
   "source": [
    "&#9989; <font color=red>**QUESTION:**</font> How do we know that the submission script is working?"
   ]
  },
  {
   "cell_type": "markdown",
   "metadata": {},
   "source": [
    "Put the answer to the above question here."
   ]
  },
  {
   "cell_type": "markdown",
   "metadata": {},
   "source": [
    "##ANSWER##\n",
    "\n",
    "```bash\n",
    "#!/bin/bash\n",
    "#SBATCH -n 10\n",
    "#SBATCH -c 7\n",
    "#SBATCH --time=3:00:00\n",
    "\n",
    "# Set OMP_NUM_THREADS to the same value as -c\n",
    "# with a fallback in case it isn't set.\n",
    "# SLURM_CPUS_PER_TASK is set to the value of -c, but only if -c is explicitly set\n",
    "if [ -n ${SLURM_CPUS_PER_TASK} ]\n",
    "then\n",
    "  omp_threads=${SLURM_CPUS_PER_TASK}\n",
    "else\n",
    "  omp_threads=1\n",
    "fi\n",
    "export OMP_NUM_THREADS=${omp_threads}\n",
    "\n",
    "#End of submit file\n",
    "\n",
    "echo \"==========================\"\n",
    "env | grep SLURM \n",
    "echo \"==========================\"\n",
    "cat $0\n",
    "echo \"==========================\"\n",
    "time srun ./Life.c-mpi-openmp -r 1000 -c 1000 -g 1000 -o life.out \n",
    "\n",
    " ```\n",
    " ##ANSWER##"
   ]
  },
  {
   "cell_type": "code",
   "execution_count": null,
   "metadata": {},
   "outputs": [],
   "source": [
    "%%writefile temp.txt\n",
    "\n",
    "Example file writing \n",
    "\n"
   ]
  },
  {
   "cell_type": "code",
   "execution_count": null,
   "metadata": {},
   "outputs": [],
   "source": [
    "#example running bash command\n",
    "!rm temp.txt"
   ]
  },
  {
   "cell_type": "markdown",
   "metadata": {},
   "source": [
    "---\n",
    "<a name=\"T3\"></a>\n",
    "# 3. Benchmark\n",
    "\n",
    "&#9989; <font color=red>**DO THIS:**</font> Change the inputs to the code such that it will run around 1 minute on a single core. \n",
    "\n",
    "&#9989; <font color=red>**QUESTION:**</font> what did you change and how long did it take to run on a single core?"
   ]
  },
  {
   "cell_type": "markdown",
   "metadata": {},
   "source": [
    "Put the answer to the above question here."
   ]
  },
  {
   "cell_type": "markdown",
   "metadata": {},
   "source": [
    "&#9989; <font color=red>**DO THIS:**</font> If we want to try all possible numbers of MPI and OpenMP threads to see what is fastest.  If we only do up to 10 each this will be 100 different benchmarks.  Instead lets compare 10 threads of MPI, 10 threads of openMP vs 1 thread."
   ]
  },
  {
   "cell_type": "markdown",
   "metadata": {},
   "source": [
    "&#9989; <font color=red>**QUESTION:**</font> How big should the hybrid code be to have an advantage over an MPI only code?"
   ]
  },
  {
   "cell_type": "markdown",
   "metadata": {},
   "source": [
    "Put the answer to the above question here."
   ]
  },
  {
   "cell_type": "markdown",
   "metadata": {},
   "source": [
    "&#9989; <font color=red>**QUESTION:**</font> How big should the hybrid code be to have an advantage over an MPI only code?"
   ]
  },
  {
   "cell_type": "markdown",
   "metadata": {},
   "source": [
    "Put the answer to the above question here."
   ]
  },
  {
   "cell_type": "markdown",
   "metadata": {},
   "source": [
    "&#9989; <font color=red>**QUESTION:**</font> How big should the hybrid code be to have an advantage over an OpenMP only code?"
   ]
  },
  {
   "cell_type": "markdown",
   "metadata": {},
   "source": [
    "-----\n",
    "### Congratulations, we're done!"
   ]
  },
  {
   "cell_type": "markdown",
   "metadata": {},
   "source": [
    "### Course Resources:\n",
    "\n",
    "- [Syllabus](###SYLLABUS###)\n",
    "- [Preliminary Schedule](###SCHEDULE###)\n",
    "- [Course D2L Page](###D2L###)"
   ]
  },
  {
   "cell_type": "code",
   "execution_count": null,
   "metadata": {
    "scrolled": true
   },
   "outputs": [],
   "source": [
    "##ANSWER## \n",
    "#this cell gets the name of the current notebook.\n",
    "from jupyterinstruct import makestudent \n",
    "makestudent.getname()\n",
    "\n",
    "import thiscourse\n",
    "tags = thiscourse.tags()\n",
    "##ANSWER## "
   ]
  },
  {
   "cell_type": "code",
   "execution_count": null,
   "metadata": {
    "scrolled": true
   },
   "outputs": [],
   "source": [
    "##ANSWER## \n",
    "#This cell runs the converter which removes ANSWER feilds, renames the notebook and cleans out output fields. \n",
    "makestudent.merge(this_notebook, \"./\"+tags['COURSE_CODE']+\"/\", tags)\n",
    "##ANSWER## "
   ]
  },
  {
   "cell_type": "markdown",
   "metadata": {},
   "source": [
    "&#169; Copyright 2019,  Michigan State University Board of Trustees"
   ]
  }
 ],
 "metadata": {
  "kernelspec": {
   "display_name": "Python 3",
   "language": "python",
   "name": "python3"
  },
  "language_info": {
   "codemirror_mode": {
    "name": "ipython",
    "version": 3
   },
   "file_extension": ".py",
   "mimetype": "text/x-python",
   "name": "python",
   "nbconvert_exporter": "python",
   "pygments_lexer": "ipython3",
   "version": "3.7.3"
  }
 },
 "nbformat": 4,
 "nbformat_minor": 2
}
