{
 "cells": [
  {
   "cell_type": "markdown",
   "metadata": {},
   "source": [
    "## Unzip a d2l file, generate html and list results"
   ]
  },
  {
   "cell_type": "code",
   "execution_count": 5,
   "metadata": {},
   "outputs": [],
   "source": [
    "!rm -rf unziptemp"
   ]
  },
  {
   "cell_type": "code",
   "execution_count": 6,
   "metadata": {},
   "outputs": [
    {
     "name": "stdout",
     "output_type": "stream",
     "text": [
      "unpackD2L will be deprecated in the future and moved to a different package (See documentation for updates)\n",
      "Unzipping nbTester_data.zip\n",
      "Source and destination are the same\n",
      "Myfilename unziptemp/Noah_Jankowski.ipynb\n",
      "Source and destination are the same\n",
      "Myfilename unziptemp/Zachary_Matson.ipynb\n",
      "Source and destination are the same\n",
      "Myfilename unziptemp/Matthew_Mills.ipynb\n",
      "Source and destination are the same\n",
      "Myfilename unziptemp/Zhichao_Peng.ipynb\n",
      "Source and destination are the same\n",
      "Myfilename unziptemp/Shuyang_Qin.ipynb\n",
      "Source and destination are the same\n",
      "Myfilename unziptemp/Sulin_Wang.ipynb\n",
      "Source and destination are the same\n",
      "Myfilename unziptemp/Marv_Zurek.ipynb\n",
      "Source and destination are the same\n",
      "Myfilename unziptemp/Cullen_Haselby.ipynb\n"
     ]
    }
   ],
   "source": [
    "from jupyterinstruct import hubgrader\n",
    "from IPython.core.display import Markdown\n",
    "markdown = hubgrader.quick_review_D2L(zipfile=\"nbTester_data.zip\", folder='unziptemp')\n"
   ]
  },
  {
   "cell_type": "code",
   "execution_count": 7,
   "metadata": {},
   "outputs": [
    {
     "data": {
      "text/markdown": [
       "- [unziptemp/Noah_Jankowski.html](unziptemp/Noah_Jankowski.html)\n",
       "- [unziptemp/Zachary_Matson.html](unziptemp/Zachary_Matson.html)\n",
       "- [unziptemp/Matthew_Mills.html](unziptemp/Matthew_Mills.html)\n",
       "- [unziptemp/Zhichao_Peng.html](unziptemp/Zhichao_Peng.html)\n",
       "- [unziptemp/Shuyang_Qin.html](unziptemp/Shuyang_Qin.html)\n",
       "- [unziptemp/Sulin_Wang.html](unziptemp/Sulin_Wang.html)\n",
       "- [unziptemp/Marv_Zurek.html](unziptemp/Marv_Zurek.html)\n",
       "- [unziptemp/Cullen_Haselby.html](unziptemp/Cullen_Haselby.html)\n"
      ],
      "text/plain": [
       "<IPython.core.display.Markdown object>"
      ]
     },
     "execution_count": 7,
     "metadata": {},
     "output_type": "execute_result"
    }
   ],
   "source": [
    "Markdown((markdown))"
   ]
  },
  {
   "cell_type": "code",
   "execution_count": null,
   "metadata": {},
   "outputs": [],
   "source": []
  }
 ],
 "metadata": {
  "kernelspec": {
   "display_name": "Python 3",
   "language": "python",
   "name": "python3"
  },
  "language_info": {
   "codemirror_mode": {
    "name": "ipython",
    "version": 3
   },
   "file_extension": ".py",
   "mimetype": "text/x-python",
   "name": "python",
   "nbconvert_exporter": "python",
   "pygments_lexer": "ipython3",
   "version": "3.7.3"
  }
 },
 "nbformat": 4,
 "nbformat_minor": 4
}
