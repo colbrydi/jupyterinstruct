{
 "cells": [
  {
   "cell_type": "markdown",
   "metadata": {},
   "source": [
    "# Check current student folder"
   ]
  },
  {
   "cell_type": "code",
   "execution_count": null,
   "metadata": {},
   "outputs": [],
   "source": [
    "from jupyterinstruct.nbfilename import nbfilename\n",
    "from jupyterinstruct import InstructorNotebook\n",
    "from pathlib import Path\n",
    "\n",
    "foldername = './CMSE401/'\n",
    "testdir = Path(foldername)\n",
    "\n",
    "errorcount = 0\n",
    "\n",
    "allfiles = sorted(testdir.glob('*.ipynb'))\n",
    "\n",
    "for filename in allfiles:\n",
    "    nbfile = nbfilename(filename.name)\n",
    "    if nbfile.prefix.isdigit():\n",
    "        errors = InstructorNotebook.validate(filename)\n",
    "        errorcount += errors\n",
    "        print(f'   TOTAL ERRORS = {errors}\\n')\n",
    "            \n",
    "print(f'All ERRORS in folder = {errorcount}')"
   ]
  },
  {
   "cell_type": "markdown",
   "metadata": {},
   "source": [
    "# Run the entire course though the validator"
   ]
  },
  {
   "cell_type": "code",
   "execution_count": null,
   "metadata": {},
   "outputs": [],
   "source": [
    "!rm -rf linkcheck"
   ]
  },
  {
   "cell_type": "code",
   "execution_count": null,
   "metadata": {},
   "outputs": [],
   "source": [
    "!mkdir -p linkcheck"
   ]
  },
  {
   "cell_type": "code",
   "execution_count": null,
   "metadata": {},
   "outputs": [],
   "source": [
    "#Make a temporary folder and convert all Instructor notebooks to student notebooks for testing\n",
    "from pathlib import Path\n",
    "from jupyterinstruct import InstructorNotebook as inb\n",
    "from jupyterinstruct.nbfilename import nbfilename\n",
    "import thiscourse\n",
    "tags = thiscourse.tags()\n",
    "directory = Path('.')\n",
    "\n",
    "allfiles = directory.glob('*.ipynb');\n",
    "\n",
    "#Make student versions\n",
    "for filename in allfiles:\n",
    "    nbfile = nbfilename(filename)\n",
    "    if nbfile.isInstructor:\n",
    "        if nbfile.prefix.isdigit():\n",
    "            inb.makestudent(filename, \"./linkcheck/\", tags)"
   ]
  },
  {
   "cell_type": "code",
   "execution_count": null,
   "metadata": {},
   "outputs": [],
   "source": [
    "import re\n",
    "# Read in the file\n",
    "filename = '0111-introduction_in-class-assignment-INSTRUCTOR.ipynb'\n",
    "with open(filename, 'r') as file:\n",
    "    text = file.read()\n",
    "#print(text)\n",
    "\n",
    "## TODO: check for ###NAME### triple hash\n",
    "extra_tags = set(re.findall('#\\w+#',text))\n",
    "for tag in extra_tags:\n",
    "    print(f\"   - Extra Tag {tag}\")"
   ]
  },
  {
   "cell_type": "code",
   "execution_count": null,
   "metadata": {},
   "outputs": [],
   "source": [
    "from jupyterinstruct.nbfilename import nbfilename\n",
    "from jupyterinstruct import InstructorNotebook\n",
    "from pathlib import Path\n",
    "\n",
    "foldername = './linkcheck/'\n",
    "testdir = Path(foldername)\n",
    "\n",
    "errorcount = 0\n",
    "\n",
    "allfiles = sorted(testdir.glob('*.ipynb'))\n",
    "\n",
    "for filename in allfiles:\n",
    "    nbfile = nbfilename(filename.name)\n",
    "    if nbfile.prefix.isdigit():\n",
    "        errors = InstructorNotebook.validate(filename)\n",
    "        errorcount += errors\n",
    "        print(f'   TOTAL ERRORS = {errors}\\n')\n",
    "            \n",
    "print(f'All ERRORS in folder = {errorcount}')"
   ]
  },
  {
   "cell_type": "code",
   "execution_count": null,
   "metadata": {},
   "outputs": [],
   "source": []
  }
 ],
 "metadata": {
  "kernelspec": {
   "display_name": "Python 3",
   "language": "python",
   "name": "python3"
  },
  "language_info": {
   "codemirror_mode": {
    "name": "ipython",
    "version": 3
   },
   "file_extension": ".py",
   "mimetype": "text/x-python",
   "name": "python",
   "nbconvert_exporter": "python",
   "pygments_lexer": "ipython3",
   "version": "3.7.3"
  }
 },
 "nbformat": 4,
 "nbformat_minor": 2
}
