{
 "cells": [
  {
   "cell_type": "markdown",
   "metadata": {},
   "source": [
    "Day to day tools for moving and preping notebooks."
   ]
  },
  {
   "cell_type": "markdown",
   "metadata": {},
   "source": [
    "# Rename and update links\n",
    "\n",
    "These functions will update instructor notebook file names and also update student links inside the rest of the folders in the instructor directory.  \n",
    "\n",
    "There is a command line option for this as well ```renamenb```.\n"
   ]
  },
  {
   "cell_type": "code",
   "execution_count": null,
   "metadata": {},
   "outputs": [],
   "source": [
    "from jupyterinstruct.InstructorNotebook import changeprefix\n",
    "changeprefix('0219-PROJECT_Part1_in-class-assignment-INSTRUCTOR.ipynb',\n",
    "             '0222', \n",
    "             True)"
   ]
  },
  {
   "cell_type": "code",
   "execution_count": null,
   "metadata": {},
   "outputs": [],
   "source": [
    "from jupyterinstruct.InstructorNotebook import renamefile\n",
    "renamefile('0219-PROJECT_Part1_Report_Template-INSTRUCTOR.ipynb',\n",
    "           '0325-PROJECT_Part1_Report_Template-INSTRUCTOR.ipynb',\n",
    "           True)"
   ]
  },
  {
   "cell_type": "markdown",
   "metadata": {},
   "source": [
    "# Make an index\n",
    "\n",
    "Searches a notebook for H1 tags that start with a number and prints out a table of contents and new header text.  This can be copied and pasted back into the notebook manually (haven't tried to automate this yet)."
   ]
  },
  {
   "cell_type": "code",
   "execution_count": null,
   "metadata": {},
   "outputs": [],
   "source": [
    "from jupyterinstruct import InstructorNotebook as inb\n",
    "notebook = inb.InstructorNB(\"0129-Languages_in-class-assignment-INSTRUCTOR.ipynb\")\n",
    "notebook.makeTOC()"
   ]
  },
  {
   "cell_type": "code",
   "execution_count": null,
   "metadata": {},
   "outputs": [],
   "source": []
  }
 ],
 "metadata": {
  "kernelspec": {
   "display_name": "Python 3",
   "language": "python",
   "name": "python3"
  },
  "language_info": {
   "codemirror_mode": {
    "name": "ipython",
    "version": 3
   },
   "file_extension": ".py",
   "mimetype": "text/x-python",
   "name": "python",
   "nbconvert_exporter": "python",
   "pygments_lexer": "ipython3",
   "version": "3.7.3"
  }
 },
 "nbformat": 4,
 "nbformat_minor": 2
}
