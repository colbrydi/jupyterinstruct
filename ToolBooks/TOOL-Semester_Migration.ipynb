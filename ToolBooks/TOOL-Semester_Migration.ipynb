{
 "cells": [
  {
   "cell_type": "markdown",
   "metadata": {},
   "source": [
    "# Make schedule\n",
    "\n"
   ]
  },
  {
   "cell_type": "code",
   "execution_count": null,
   "metadata": {},
   "outputs": [],
   "source": [
    "from jupyterinstruct.webtools import makedateschedule\n",
    "\n",
    "makedateschedule('./cmse401-S21-student/assignments/')\n"
   ]
  },
  {
   "cell_type": "markdown",
   "metadata": {},
   "source": [
    "## CSV file date based migration (this worked well)\n",
    "\n",
    "It is currently turned off.  Change False to True in last line.\n",
    "\n",
    "The csv file should have two columns ```['Current File', 'Code']```. Where ```Current File``` is the current filename and the ```Code``` is the new date code in the format ```MMDD```.  Running this code will covert from the current file to a filename with the new code and update all student links. Similar to this:\n",
    "\n",
    "https://docs.google.com/spreadsheets/d/19dYzkAz2E2GbpvtNIfLbfrsQxz5PVyznKOSzwE2pQVw/edit#gid=2142090757"
   ]
  },
  {
   "cell_type": "code",
   "execution_count": null,
   "metadata": {},
   "outputs": [],
   "source": [
    "csvfile = 'CMSE401_F20-S21_Migration_file.csv'"
   ]
  },
  {
   "cell_type": "code",
   "execution_count": null,
   "metadata": {},
   "outputs": [],
   "source": [
    "from jupyterinstruct import InstructorNotebook \n",
    "from pathlib import Path\n",
    "import pandas\n",
    "\n",
    "df = pandas.read_csv(csvfile)\n",
    "df = df[['Current File', 'Code']]\n",
    "df['Code'] = df['Code'].apply(lambda x: str(x).zfill(4))\n",
    "\n",
    "for i, row in df.iterrows():\n",
    "    filename = row['Current File']\n",
    "    date = row['Code']\n",
    "    if isinstance(filename,str):\n",
    "        if filename[:4] == date:\n",
    "            print(f\" No change to {filename} to {row['Code']}\")\n",
    "        else:\n",
    "            print(f\" Fixing {filename} to {row['Code']}\")\n",
    "            InstructorNotebook.changeprefix(filename, row['Code'], False, False)"
   ]
  },
  {
   "cell_type": "markdown",
   "metadata": {},
   "source": [
    "## Fixing Header/Footer \n",
    "The following will go though the entire directory and try to strip out Headers and footers and replace them with headers and footers in the following files:\n",
    "\n",
    "    - In-class-Header.ipynb\n",
    "    - In-class-Footer.ipynb\n",
    "    - pre-class-Header.ipynb\n",
    "    - Pre-class-Footer.ipynb\n",
    "    \n",
    "You may want to add some extra \"REMOVE\" functions based on your needs.\n",
    "\n"
   ]
  },
  {
   "cell_type": "code",
   "execution_count": null,
   "metadata": {},
   "outputs": [],
   "source": [
    "from jupyterinstruct import InstructorNotebook as inb\n",
    "from jupyterinstruct.nbfilename import nbfilename\n",
    "from IPython.core.display import Javascript, HTML\n",
    "\n",
    "def replease_head_foot(filename = \"\"):\n",
    "    nbfile = nbfilename(filename)\n",
    "    if not filename == str(nbfile):\n",
    "        print(f\"Instructor file not complient - Changing from {filename} to {str(nbfile)}\")\n",
    "        jupytermigrate.renamefile(filename, str(nbfile),True)\n",
    "        \n",
    "    filename=str(nbfile)\n",
    "    \n",
    "    try:\n",
    "        nb = inb.InstructorNB(filename=filename)\n",
    "    except Exception as e:\n",
    "        print(f\"ERROR: {e}\\n\\n\\n\")\n",
    "        return 1\n",
    "    \n",
    "    nb.removebefore('ENDHEADER')\n",
    "    nb.removeafter('STARTFOOTER')\n",
    "\n",
    "    if (len(nb.contents.cells) == 0):\n",
    "        print(f\"ERROR {filename} - We Removed too much\")\n",
    "    else:\n",
    "\n",
    "        if nbfile.isInClass:\n",
    "            print('in-class')\n",
    "            nb.headerfooter(headerfile='In-class-Header.ipynb', footerfile='In-class-Footer.ipynb')\n",
    "        elif nbfile.isPreClass:\n",
    "            print('pre-class')\n",
    "            nb.headerfooter(headerfile='Pre-class-Header.ipynb', footerfile='Pre-class-Footer.ipynb')\n",
    "\n",
    "\n",
    "        #COMMENT OUT TO DISABLE WRITING (For testing)\n",
    "        nb.writenotebook(str(nbfile))\n",
    "\n",
    "        # Make a link for review\n",
    "        display(\n",
    "           HTML(f\"<a href={filename} target=\\\"blank\\\">{filename}</a>\"))\n",
    "\n"
   ]
  },
  {
   "cell_type": "code",
   "execution_count": null,
   "metadata": {},
   "outputs": [],
   "source": [
    "from pathlib import Path\n",
    "from jupyterinstruct import InstructorNotebook as inb\n",
    "from jupyterinstruct.nbfilename import nbfilename\n",
    "\n",
    "directory = Path('.')\n",
    "allnbfiles = sorted(directory.glob('*.ipynb'))\n",
    "\n",
    "for filename in allnbfiles:\n",
    "    nbfile = nbfilename(filename)\n",
    "    if nbfile.prefix.isdigit():\n",
    "        if int(nbfile.prefix[:4]) > 0:\n",
    "            print(nbfile)\n",
    "            replease_head_foot(str(nbfile))\n",
    "        "
   ]
  },
  {
   "cell_type": "markdown",
   "metadata": {},
   "source": [
    "## Check and Fix filenames in current directory\n",
    "\n",
    "This is a nice thing to do at the beginning of a semester to make sure names have follow the described requirements. "
   ]
  },
  {
   "cell_type": "code",
   "execution_count": null,
   "metadata": {},
   "outputs": [],
   "source": [
    "from pathlib import Path\n",
    "from jupyterinstruct import InstructorNotebook as inb\n",
    "from jupyterinstruct.nbfilename import nbfilename\n",
    "\n",
    "directory = Path('.')\n",
    "allnbfiles = sorted(directory.glob('*.ipynb'))\n",
    "\n",
    "for filename in allnbfiles:\n",
    "    nbfile = nbfilename(filename)\n",
    "    if nbfile.isInstructor:\n",
    "        if str(filename) != str(nbfile):\n",
    "            inb.renamefile(str(filename), str(nbfile),True, True)"
   ]
  },
  {
   "cell_type": "markdown",
   "metadata": {},
   "source": [
    "## Make a date schedule\n",
    "\n",
    "https://docs.google.com/spreadsheets/d/19dYzkAz2E2GbpvtNIfLbfrsQxz5PVyznKOSzwE2pQVw/edit#gid=2142090757"
   ]
  },
  {
   "cell_type": "code",
   "execution_count": null,
   "metadata": {},
   "outputs": [],
   "source": [
    "from jupyterinstruct.nbfilename import nbfilename\n",
    "from pathlib import Path\n",
    "from IPython.display import Markdown\n",
    "\n",
    "\n",
    "\n",
    "student_folder = \".\"\n",
    "S_path = Path(student_folder)\n",
    "StudentFiles = S_path.glob(f\"*.ipynb\")\n",
    "\n",
    "nameset = set()\n",
    "for file in StudentFiles:\n",
    "    nbfile = nbfilename(file)\n",
    "    if nbfile.isDate:\n",
    "        nameset.add(str(nbfile))\n",
    "        \n",
    "I_path = Path('.')\n",
    "InstructorFiles = I_path.glob(f\"*.ipynb\")\n",
    "\n",
    "schedule =  \"| Date | Type | number | Topic | notebook |\\n\"\n",
    "schedule += \"|------|------|--------|-------|----------|\\n\"\n",
    "\n",
    "for file in sorted(InstructorFiles):\n",
    "    nbfile = nbfilename(str(file))\n",
    "    if(nbfile.isInstructor and nbfile.isDate):\n",
    "        nbfile.isInstructor = False\n",
    "        thisfile = str(nbfile)\n",
    "        \n",
    "        filetype = \"In-Class Assignment\"\n",
    "        if nbfile.isPreClass:\n",
    "            filetype = \"Pre-Class Assignment\"\n",
    "        nbfile.isInClass = False\n",
    "        nbfile.isPreClass = False\n",
    "        \n",
    "        if thisfile in nameset:\n",
    "            schedule += f\"|  {nbfile.getlongdate()}, 2021  | {nbfile.basename()[0:4]} | {filetype} | [{nbfile.basename()[5:]}]({student_folder}{thisfile[:-6]}.html) | [ipynb]({student_folder}{str(thisfile)}) |\\n\"\n",
    "        else:\n",
    "            schedule += f\"| {nbfile.getlongdate()}, 2021   | {nbfile.basename()[0:4]} | {filetype} | {nbfile.basename()[5:]} |\\n\"\n",
    "Markdown(schedule)"
   ]
  },
  {
   "cell_type": "markdown",
   "metadata": {},
   "source": [
    "---"
   ]
  }
 ],
 "metadata": {
  "kernelspec": {
   "display_name": "Python 3",
   "language": "python",
   "name": "python3"
  },
  "language_info": {
   "codemirror_mode": {
    "name": "ipython",
    "version": 3
   },
   "file_extension": ".py",
   "mimetype": "text/x-python",
   "name": "python",
   "nbconvert_exporter": "python",
   "pygments_lexer": "ipython3",
   "version": "3.7.3"
  }
 },
 "nbformat": 4,
 "nbformat_minor": 2
}
