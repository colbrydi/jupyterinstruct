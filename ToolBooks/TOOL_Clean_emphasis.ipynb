{
 "cells": [
  {
   "cell_type": "code",
   "execution_count": null,
   "metadata": {},
   "outputs": [],
   "source": [
    "from jupyterinstruct import InstructorNotebook\n",
    "\n",
    "def fix_emphasis(filename=\"\"):\n",
    "    nb = InstructorNotebook.InstructorNB(filename)\n",
    "    newcells = []\n",
    "    for cell in nb.contents.cells:\n",
    "        cellstring = cell.source\n",
    "        cellstring = cellstring.replace(r'<font color=red>**', '**<font color=red>')\n",
    "        cellstring = cellstring.replace(r'**</font>', r'</font>**')\n",
    "        cellstring = cellstring.replace(r'** </font>', r'</font>**')\n",
    "        cell.source = cellstring\n",
    "        newcells.append(cell)\n",
    "    nb.contents.cells = newcells\n",
    "    print(filename)\n",
    "    #nb.writenotebook(filename)"
   ]
  },
  {
   "cell_type": "code",
   "execution_count": null,
   "metadata": {},
   "outputs": [],
   "source": [
    "from pathlib import Path\n",
    "from jupyterinstruct import InstructorNotebook as inb\n",
    "from jupyterinstruct.nbfilename import nbfilename\n",
    "\n",
    "directory = Path('.')\n",
    "allnbfiles = sorted(directory.glob('*.ipynb'))\n",
    "\n",
    "for filename in allnbfiles:\n",
    "    nbfile = nbfilename(filename)\n",
    "    if nbfile.prefix.isdigit():\n",
    "        if int(nbfile.prefix[:4]) > 0:\n",
    "            print(nbfile)\n",
    "            fix_emphasis(str(nbfile))"
   ]
  },
  {
   "cell_type": "code",
   "execution_count": null,
   "metadata": {},
   "outputs": [],
   "source": []
  }
 ],
 "metadata": {
  "kernelspec": {
   "display_name": "Python 3",
   "language": "python",
   "name": "python3"
  },
  "language_info": {
   "codemirror_mode": {
    "name": "ipython",
    "version": 3
   },
   "file_extension": ".py",
   "mimetype": "text/x-python",
   "name": "python",
   "nbconvert_exporter": "python",
   "pygments_lexer": "ipython3",
   "version": "3.7.3"
  }
 },
 "nbformat": 4,
 "nbformat_minor": 4
}
