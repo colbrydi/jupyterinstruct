{
 "cells": [
  {
   "cell_type": "markdown",
   "metadata": {},
   "source": [
    "# Creating Assessable Content in Jupyter Notebooks\n",
    "By Dirk Colbry\n",
    "\n",
    "<img src=\"https://www.outsystems.com/blog/-/media/images/blog/posts/building-web-accessibility-barriers-guidelines-standards/building-web-accessibility-barriers-guidelines-standards_01.jpg?la=en\" alt=\"Icons representing various types of accessability issues included as a visual motivation to the page. These include; Cognative, Visual, Auditory, Motor and Speech\">\n",
    "\n",
    "Image From: [Building Web Accessibility Barriers Guidelines Standards](https://www.outsystems.com/blog/posts/building-web-accessibility-barriers-guidelines-standards/)\n",
    "\n",
    "Jupyter notebooks are an amazing communication tool.  They allow rich and editable multimedia content and is an intersection between a word processor, a multimedia webpage, and LaTeX.  It can even run code!.  This mutliple means of engagement and representations is highlighted as a major goal of [Universal Design for Learning](http://www.cast.org/our-work/about-udl.html). Jupyter notebooks use an opensource format and are easily shared making them a robust tool that is not limited by paltform.   However, as with any communication tool some time and effort should be put into making the content as assessable to the audience as possible.  \n",
    "\n",
    "\n",
    "This notebook provides some examples of the best ways I know to make content in jupyter notebooks Assessable. Feel free to use this notebook as a template for your own accessable content.    "
   ]
  },
  {
   "cell_type": "markdown",
   "metadata": {},
   "source": [
    "### Table of Contents\n",
    "\n",
    "1. [Using Headers to organize content](#Using_Headers_to_organize_content)\n",
    "1. [Generating a Table of Contents](#Generating_Table_of_Contents)\n",
    "1. [Using Images](#Using_Images)\n",
    "1. [Emphasizing Text](#Emphasizing_Text)\n",
    "1. [Adding videos to pre-class assignments](#Adding_videos_to_pre-class_assignments)\n",
    "1. [Equations in notebooks](#Equations_in_notebooks)\n",
    "1. [Writing code inside of notebooks](#Writing_code_inside_of_notebooks)\n"
   ]
  },
  {
   "cell_type": "markdown",
   "metadata": {},
   "source": [
    "----\n",
    "<a name=\"Using_Headers_to_organize_content\"></a>\n",
    "\n",
    "# 1. Using Headers to organize content\n",
    "\n",
    "It is important for section headers to be vidually identifiable to make navigating the douument easier. The correct way to do this is to use the header hashtag (#) in the jupyter markdown cells.  One hashtag creates a level 1 header, two hashtags a level 2 etc.  \n",
    "\n",
    "    # Level 1 header\n",
    "    ## Level 2 header\n",
    "    ### Level 3 header\n",
    "\n",
    "By using the hashtags you not only get the desiared visual seperation but the levels will be readable by screen readers. "
   ]
  },
  {
   "cell_type": "markdown",
   "metadata": {},
   "source": [
    "----\n",
    "<a name=\"Generating_Table_of_Contents\"></a>\n",
    "\n",
    "# 2. Generating a Table of Contents\n",
    "\n",
    "In all of my notebooks I try to provide a summary of what topics and activites are included in the notebook. To really help all readers these should be in the form of links.  To make a links work inside the notebook requires something called \"anchor tags\". I generally put these tags right before the major headers and the tage name is basically the same as the header with underscores in place of spaces.  Then the link can go directly to the anchor using a hashtag (#) followed by the tag name.  \n",
    "\n",
    "Put this right before a header:\n",
    "\n",
    "    ```<a name=\"Writing_code_inside_of_notebooks\">```\n",
    "    \n",
    "Put the following code in your table of contents at the beginning of the notebook\n",
    "\n",
    "    [Writing code inside of notebooks](#Writing_code_inside_of_notebooks)\n",
    "    \n",
    "For ecample: [Writing code inside of notebooks](#Writing_code_inside_of_notebooks)\n"
   ]
  },
  {
   "cell_type": "markdown",
   "metadata": {},
   "source": [
    "----\n",
    "<a name=\"Using_Images\"></a>\n",
    "\n",
    "# 3. Using Images\n",
    "\n",
    "There are three two ways to include images inside of jupyter notebooks. In both cases it is important that alternative text is included to help readers with different visual abilities.  The following is a description of each method:\n",
    "\n",
    "## a. Image in Jupyter Markdown\n",
    "\n",
    "Probably the easiest method is to include images using the markdown format as follows:\n",
    "\n",
    "    ![template image of a camera](http://pngimg.com/uploads/tripod/tripod_PNG130.png)\n",
    "\n",
    "![template image of a camera](http://pngimg.com/uploads/tripod/tripod_PNG130.png)\n",
    "\n",
    "The main problem with this approach is that the author has little control over the size and shape of the image.\n"
   ]
  },
  {
   "cell_type": "markdown",
   "metadata": {},
   "source": [
    "## b. Images using HTML text\n",
    "\n",
    "A second method is to use the ```img``` html tag in a markdown cell as follows:\n",
    "\n",
    "    <img src=\"http://pngimg.com/uploads/tripod/tripod_PNG130.png\" width=\"50%\" alt=\"template image of a camera\">\n",
    "\n",
    "    \n",
    "<img src=\"http://pngimg.com/uploads/tripod/tripod_PNG130.png\" width=\"50%\" alt=\"template image of a camera\">\n",
    "\n",
    "\n",
    "The nice thing about using HTML tags is that there is a lot more control over the image sizes. Keep in mind that readers may be accessing content on multiple platforms.  It is generally better to adjust image size based on a percentage rather than a fixed pixel size. \n",
    "\n"
   ]
  },
  {
   "cell_type": "markdown",
   "metadata": {},
   "source": [
    "\n",
    "\n",
    "## Image data locations\n",
    "\n",
    "For images to work they need to be stored in a location that is accessible to jupyter. There are basically three options:\n",
    "\n",
    "* **Option 1:** Access the data from an image stored on the internet using it's URL (like above). This is by far the eaiest method but does require both the authors and the readers to have internet access.\n",
    "* **Option 2:** Put the image in a local file such as ./myimage.jpg.  The problem with this approach is that reader will need to also download copies of each image to see them. This is a terrible barrier to their use.\n",
    "* **Option 3:** Embed the image data using a HEX format similar to the following. This nicely puts all of the information inside of the notebook but can be difficult to generate, makes the notebooks really big and unreadable. \n",
    "\n",
    "<img src=\"data:image/png;base64,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\" alt=\"camera as embeded data\">\n",
    "\n",
    "\n",
    "### Instructor generated content\n",
    "Considering the three options above, **Option 1** is generally the esiest. However, finding a place to post instructor generated images on the internet can be tricky.  I found a quick an easy way to post images is to use a google form.  For each class I create a googe form like the following:\n",
    "\n",
    "- [Example Google Form](https://docs.google.com/forms/d/1kvIzk22Levf-4uIOjMWfoKHk88lZICZXccqoEL8zaCY/edit)\n",
    "\n",
    "When I need to include a new image, I add a new question to the google form and give it a figure.  Then I switch to [view mode](https://docs.google.com/forms/d/e/1FAIpQLSfho721WeXC_jl8cznl1lGkuhkCK6cUE7pw3l3gYDs7aIkqcQ/viewform), right click on the image and get it's URL to use in the jupyter notebook. \n",
    "\n",
    "\n",
    "![example image hosted on a google form](https://lh4.googleusercontent.com/1ZhZ1mZrqvQb_FP6Kbqp1RxAZX8DVcqFU3p3Tm0vt4h_pQH8fuP5BXcPWwNKuZexMpFfv9juX4Mw2ajKE6rR9MGGeZBg0yPdpylbGdHIktsAGsK4juIIjsf3PeJx=w740)\n",
    "\n",
    "There are clearly other ways to store images online but I have found this method to work for my needs. "
   ]
  },
  {
   "cell_type": "markdown",
   "metadata": {},
   "source": [
    "----\n",
    "<a name=\"Emphasizing_Text\"></a>\n",
    "# 4. Emphasizing Text\n",
    "\n",
    "When emphasizing text always use two forms of emphasis. The traditional example is bold and italics but for some reason that dosn't always seem to work in jupyter notebooks. I typically use bold and color and I pick the color red using the html font tag and the double star (\\*\\*) syntax:\n",
    "\n",
    "    **<font color=red>QUESTION:</font>** Question here.\n",
    "\n",
    "**<font color=red>QUESTION:</font>** Question here.\n",
    "\n",
    "_**Testing**_\n",
    "\n",
    "\n",
    "Since jupyter notebooks are interactive documents, it is very important that all parts of the notebook where the reader is expected ot interact with the notebook are emphasized in some way.\n",
    "\n",
    "I also like to add a special charicter such as &#9989; which should be read correctly by screen readers (unverified).  I suggest to the reader that they delete the speacial charicter when after they complete a section. It is then easy to search for the special charicter (either visually or with the search option) to make sure all sections are complete before moving on. "
   ]
  },
  {
   "cell_type": "markdown",
   "metadata": {},
   "source": [
    "-----\n",
    "<a name=\"Adding_videos_to_pre-class_assignments\"></a>\n",
    "# 5.  Adding videos to pre-class assignments\n",
    "\n",
    "\n",
    "Often we want to include video content in hotebooks.  These videos can be embeded inside of a notebook using the ```IPython.display.YouTubeVideo``` function as follows.  Some things to note:\n",
    "\n",
    "- Always include the ```from IPython.display import YouTubeVideo``` in each cell when including videos.  Although, in theory, each notebook only needs to import something once, readers often skip ahead to videos or close/open the notebook and start where they left off.  By including the include statements readers can just start where they left off and do not need to always start from the beginning. We use this tip quite a lot to help adjust to different student learning paces.\n",
    "- Short videos are better than long ones.  I recommend trying to keep videos to around 5 minutes each (topping out at 10 minutes).  Sometimes longer videos can not be avoided but try to break them up as best you can (see note about parameter's below).\n",
    "- Always turn close captioning on by default and make sure the videos have captioning.  Although most readers do not \"need\" close captioning, up to 70% of students have used closed captioning and by turning it on by default we hope to improve focus and understanding (the reader still has the option for turning it off.\n",
    "- There are other helpful [parameters](https://developers.google.com/youtube/player_parameters#Parameters) you can use to make things better for the students. In particular the ```start```, ```stop``` options to shorten the video. \n",
    "- This only works with youtube videos.  You need to include the videos tag which is the very last part of it's URL.  For example the following video has the full URL of: https://www.youtube.com/watch?time_continue=1&v=xE8oqYoUFBQ.  Notice the tag after the ```v=``` is the same as the tag in the function below. \n",
    "- Note that not all videos are setup to play outside of youtube.  Many companies post videos that only let them be played from the youtube website.\n"
   ]
  },
  {
   "cell_type": "markdown",
   "metadata": {},
   "source": [
    "## Adding Subtitles to YouTube videos\n",
    "\n",
    "When adding videos it is also helpful to include a direct link to YouTube which can make watching the video easier in some formats. \n",
    "\n",
    "[Direct Link to Video](https://www.youtube.com/watch?time_continue=1&v=bDvKnY0g6e4)"
   ]
  },
  {
   "cell_type": "code",
   "execution_count": null,
   "metadata": {
    "scrolled": false
   },
   "outputs": [],
   "source": [
    "from IPython.display import YouTubeVideo\n",
    "YouTubeVideo(\"bDvKnY0g6e4\",width=640,height=360, cc_load_policy=True)"
   ]
  },
  {
   "cell_type": "markdown",
   "metadata": {},
   "source": [
    "\n",
    "Note: You may also be able to add Youtube videos using an embeded iframe as follows.  This code can be copied and pasted by pressing the share link in the youtube video and clicking on embeded.\n",
    "\n",
    "<iframe width=\"560\" height=\"315\" src=\"https://www.youtube.com/embed/bDvKnY0g6e4\" frameborder=\"0\" allow=\"accelerometer; autoplay; encrypted-media; gyroscope; picture-in-picture\" allowfullscreen></iframe>\n",
    "\n",
    "However, I have found that embeded iframes do not always work well in all jupyter installations. I havne't fully debugged why but this would be something that would need to be investigated. (For example, the notebook where I am developing this code currently doesn't work in my notebook."
   ]
  },
  {
   "cell_type": "markdown",
   "metadata": {},
   "source": [
    "---\n",
    "<a name=\"Equations_in_notebooks\"></a>\n",
    "\n",
    "# 6. Equations in notebooks\n",
    "\n",
    "Jupyter notebooks are compatible with $\\LaTeX$ math syntax and generate equations using [MathJax](https://www.mathjax.org/). Currently this method of showing equations in web browsers is the most compatible with screen readers.  \n",
    "\n",
    "**DO NOT** show equations as images unless there is sufficient alternative text to explain what is shown in the image.\n",
    "\n",
    "There are two ways to render equations. The first is inline using single dollar sign (```$```) to escape the equation such as $y=mx+b$ or the instructor can use two dollar signs (```$$```) which will display the equation, centered on it's own line:\n",
    "\n",
    "$$a^2+b^2=c^2$$\n"
   ]
  },
  {
   "cell_type": "markdown",
   "metadata": {},
   "source": [
    "----\n",
    "<a name=\"Writing_code_inside_of_notebooks\"></a>\n",
    "\n",
    "# 7. Writing code inside of notebooks\n",
    "\n"
   ]
  },
  {
   "cell_type": "markdown",
   "metadata": {},
   "source": [
    "----\n",
    "<a name=\"\"></a>\n",
    "\n",
    "# 9. Things to avoid\n"
   ]
  },
  {
   "cell_type": "markdown",
   "metadata": {},
   "source": [
    "---\n",
    "\n",
    "# 10. Other Resources\n",
    "\n",
    "- [Universal Design for Learning](http://www.cast.org/our-work/about-udl.html)\n",
    "\n",
    "- [Jupyter notebook example guild](https://jupyter-notebook.readthedocs.io/en/stable/examples/Notebook/examples_index.html)"
   ]
  },
  {
   "cell_type": "markdown",
   "metadata": {},
   "source": [
    "Written by Dr. Dirk Colbry, Michigan State University\n",
    "<a rel=\"license\" href=\"http://creativecommons.org/licenses/by-nc/4.0/\"><img alt=\"Creative Commons License\" style=\"border-width:0\" src=\"https://i.creativecommons.org/l/by-nc/4.0/88x31.png\" /></a><br />This work is licensed under a <a rel=\"license\" href=\"http://creativecommons.org/licenses/by-nc/4.0/\">Creative Commons Attribution-NonCommercial 4.0 International License</a>."
   ]
  },
  {
   "cell_type": "markdown",
   "metadata": {},
   "source": [
    "----"
   ]
  }
 ],
 "metadata": {
  "anaconda-cloud": {},
  "kernelspec": {
   "display_name": "Python 3",
   "language": "python",
   "name": "python3"
  },
  "language_info": {
   "codemirror_mode": {
    "name": "ipython",
    "version": 3
   },
   "file_extension": ".py",
   "mimetype": "text/x-python",
   "name": "python",
   "nbconvert_exporter": "python",
   "pygments_lexer": "ipython3",
   "version": "3.7.3"
  }
 },
 "nbformat": 4,
 "nbformat_minor": 2
}
