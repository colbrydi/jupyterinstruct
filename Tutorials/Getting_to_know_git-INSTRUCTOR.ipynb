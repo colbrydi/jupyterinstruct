{
 "cells": [
  {
   "cell_type": "markdown",
   "metadata": {},
   "source": [
    "# Getting to Know Git\n",
    "**by Dirk Colbry**\n",
    "\n",
    "<img src=\"https://git-scm.com/images/logos/downloads/Git-Logo-2Color.png\" width=\"70%\">\n",
    "\n",
    "```Git``` is a version control system that is used by programmers all over the world. If you want to use programming then you should learn how to use ```git```.  This tutorial is just the first step in learning ```git```. It is a complex tool with with a lot of functionality this tutorial tries to present only some of the commands based on what you nee to do. The three basic categories are:\n",
    "\n",
    "1. Consumer of files (the class files)\n",
    "2. Producers of files (your files)\n",
    "3. Collaborators to files (code reviews)\n",
    "\n",
    "Resources for these tutorials can be reviewed here:\n",
    "\n",
    "- [Git Slides](https://docs.google.com/presentation/d/1bDvwJJ5umOEFuoXqekOe9_aFOhX3Pudgv9_EiI-P0eA/edit)\n",
    "- [Entire Git Video Playlist](https://www.youtube.com/playlist?list=PLqPfbT7gwVP_AlE6HeDQUJsG4nUbGyeh3)\n",
    "\n",
    "Watch the following video for a brief overview of git and this tutorial:\n",
    "\n",
    "<center>\n",
    "<iframe width=\"576\" height=\"360\" src=\"https://www.youtube.com/embed/HuQFjov9CQI\" frameborder=\"0\" allow=\"accelerometer; autoplay; encrypted-media; gyroscope; picture-in-picture\" allowfullscreen></iframe>\n",
    "</center>"
   ]
  },
  {
   "cell_type": "markdown",
   "metadata": {},
   "source": [
    "##ANSWER##\n",
    "\n",
    "### TODO to \"Introduction to Videos\" Video\n",
    "\n",
    "- Fix top and bottom boarders to Getting to Know Git video thumbnail (make background white and crop video)\n",
    "\n",
    "\n",
    "##ANSWER##"
   ]
  },
  {
   "cell_type": "markdown",
   "metadata": {},
   "source": [
    "##ANSWER##\n",
    "\n",
    "Ilike this flow better when talking about putting your changes in a branch:\n",
    "\n",
    "git branch keepmychanges\n",
    "git checkout keepmychanges\n",
    "git add -u\n",
    "git commit -m “Storing my changes in the keepmychanges branch”\n",
    "git checkout master\n",
    "git pull\n",
    "\n",
    "Should add this at some point\n",
    "\n",
    "##ANSWER##"
   ]
  },
  {
   "cell_type": "code",
   "execution_count": null,
   "metadata": {},
   "outputs": [],
   "source": [
    "##ANSWER##\n",
    "# Getting to Know Git - https://www.youtube.com/playlist?list=PLqPfbT7gwVP_AlE6HeDQUJsG4nUbGyeh3\n",
    "from IPython.display import YouTubeVideo\n",
    "YouTubeVideo(\"HuQFjov9CQI\",width=576,height=360, cc_load_policy=True)\n",
    "##ANSWER##"
   ]
  },
  {
   "cell_type": "markdown",
   "metadata": {},
   "source": [
    "## Table of Contents\n",
    "\n",
    "\n",
    "### [Part one - Consuming Files](#Consuming_Files)\n",
    "* [Installing git](#Installing_Git)\n",
    "    * conda install 'git'\n",
    "* [Cloning a repository](#Cloning_a_repository)\n",
    "    * What is git\n",
    "    * git clone\n",
    "    * git status\n",
    "    * git log\n",
    "* [Cleaning/Updating a cloned repository](#Cleaning_Updating_a_cloned_repository)\n",
    "    * git pull # (our first conflict)\n",
    "    * git diff\n",
    "    * git checkout\n",
    "\n",
    "### [Part two - Producing Files](#Producing_Files)\n",
    "* [Making your own repository](#Making_your_own_repository)\n",
    "    * git init\n",
    "    * folder structure\n",
    "* [Updating your Repository](#Updating_your_Repository)\n",
    "    * git add\n",
    "    * git rm\n",
    "    * git mv\n",
    "    * git commit\n",
    "    * git push\n",
    "* [Your First Branch](#Your_First_Branch)\n",
    "    * git branch\n",
    "    * git checkout\n",
    "* [Pulling in a new branch](#Pulling_in_a_new_branch)\n",
    "    * git merge\n",
    "\n",
    "### [Part three - Collaborating](#Collaborating)\n",
    "* [Making a Merge/Pull Request on a shared repository<](#Shared_Repository_Merge_Request)\n",
    "* [Issuing a pull/merge request](#Issuing_a_pull_merge_request)\n",
    "* [Managing the Upstream](#Managing_the_Upstream)\n",
    "    * git config -l \n",
    "    * git remote add \n",
    "    * git fetch\n",
    "    * git rebase"
   ]
  },
  {
   "cell_type": "markdown",
   "metadata": {},
   "source": [
    "<a name=\"Installing_Git\"></a>\n",
    "## Installing Git\n",
    "\n",
    "In order to effectively clone a directory you will need to install ```git``` on your computer. \n",
    "\n",
    "How to install git will depend on the computer you are working on and it's operating systems. Many \\*nix based operating systems (Linux, MacOS, etc) may have git already installed.  To check if git is installed open a command prompt on your system and type the following:\n",
    "\n",
    "```bash\n",
    "git --version\n",
    "```\n",
    "\n",
    "If ```git``` is installed you should see the version number. If not, you will get something like \"Command not found error\" If git is already installed you should be all set to go.  If not, continue on with the remainder of the instructions.\n",
    "\n",
    "For this tutorial we will assume that you already have ```conda``` Installed.  The ```conda``` command is a cross-platform installation system. It is primarily installed with Anaconda Python distributions but has support for many other programming languages and commands (including git).  Open up a command prompt on your system and see if you can run the following command:\n",
    "\n",
    "```bash\n",
    "conda --version\n",
    "\n",
    "```\n",
    "\n",
    "If conda is installed you should see it's version number if not try installing it from the [Anaconda Python website](https://www.anaconda.com/).  \n",
    "\n",
    "Once you have conda working you should be able to install ```git``` using the following commands:\n",
    "\n",
    "```bash\n",
    "conda install git\n",
    "```\n",
    "\n",
    "That should be it. Test ```git``` again by opening the command prompt and typing ```git --version``` like we did above. \n",
    "\n",
    "Although not required for using ```git```, if you are using windows, I highly recommend also installing the ```md-base``` package which provides a nice set of  \\*nix commands that will work on the windows command line.  Many of these commands will be used in the demo videos so having them installed should help you follow along when you are watching the videos:\n",
    "\n",
    "```bash\n",
    "conda install m2-base\n",
    "```"
   ]
  },
  {
   "cell_type": "markdown",
   "metadata": {},
   "source": [
    "-----\n",
    "<a name=\"Consuming_Files\"></a>\n",
    "# Part one - Consuming Files\n",
    "\n",
    "<a name=\"Cloning_a_repository\"></a>\n",
    "## Cloning a repository (Consumer)\n",
    "\n",
    "Most people's introduction to ```git``` is when the come across some software on [github.com](http://github.com) they want to download.  Downloading a ```git``` repository is called cloning.  For example, lets download an example git repository called ```git_practice_repository``` using the following command:\n",
    "\n",
    "```bash\n",
    "git clone git_practice_repository\n",
    "```\n",
    "\n",
    "This should create a folder in your current directory with the name ```git_practice_repostory``` change into this directory using the following command:\n",
    "\n",
    "```bash\n",
    "cd git_practice_repository\n",
    "```\n",
    "\n",
    "List the contents of the directory using (```dir``` on windows and ```ls``` on everything else)\n",
    "\n",
    "<center>\n",
    "<iframe width=\"576\" height=\"360\" src=\"https://www.youtube.com/embed/sNcxGBk2W78\" frameborder=\"0\" allow=\"accelerometer; autoplay; encrypted-media; gyroscope; picture-in-picture\" allowfullscreen></iframe>\n",
    "</center>"
   ]
  },
  {
   "cell_type": "markdown",
   "metadata": {},
   "source": [
    "##ANSWER##\n",
    "\n",
    "### TODO to \"Git Clone\" Video\n",
    "\n",
    "- The introduction says we will do \"git add\"/\"git commit\" but that is saved for the next video.\n",
    "- Fix Command line prompt in demo\n",
    "\n",
    "\n",
    "##ANSWER##"
   ]
  },
  {
   "cell_type": "code",
   "execution_count": null,
   "metadata": {},
   "outputs": [],
   "source": [
    "##ANSWER##\n",
    "\n",
    "# Cloning a Repository - https://www.youtube.com/playlist?list=PLqPfbT7gwVP_AlE6HeDQUJsG4nUbGyeh3\n",
    "from IPython.display import YouTubeVideo\n",
    "YouTubeVideo(\"sNcxGBk2W78\",width=576,height=360, cc_load_policy=True)\n",
    "##ANSWER##"
   ]
  },
  {
   "cell_type": "markdown",
   "metadata": {},
   "source": [
    "A summary of the commands used in video:\n",
    "\n",
    "```bash\n",
    "git clone URL\n",
    "cd FOLDER\n",
    "ls\n",
    "jupyter notebook\n",
    "```"
   ]
  },
  {
   "cell_type": "markdown",
   "metadata": {},
   "source": [
    "<a name=\"Cleaning_Updating_a_cloned_repository\"></a>\n",
    "\n",
    "## Cleaning/Updating a cloned repository (Consumer)\n",
    "\n",
    "It may be possible that the developer has made some changes to the repository and posted them on their git website. You can use the ```git pull``` command to pull in the changes to your repository.\n",
    "\n",
    "```bash\n",
    "git pull\n",
    "```\n",
    "<center>\n",
    "<iframe width=\"576\" height=\"360\" src=\"https://www.youtube.com/embed/rRRNUUyxJ_I\" frameborder=\"0\" allow=\"accelerometer; autoplay; encrypted-media; gyroscope; picture-in-picture\" allowfullscreen></iframe>\n",
    "</center>"
   ]
  },
  {
   "cell_type": "markdown",
   "metadata": {},
   "source": [
    "##ANSWER##\n",
    "\n",
    "### TODO to \"Git Pulling\" Video\n",
    "\n",
    "- \n",
    "\n",
    "\n",
    "##ANSWER##"
   ]
  },
  {
   "cell_type": "code",
   "execution_count": null,
   "metadata": {},
   "outputs": [],
   "source": [
    "##ANSWER##\n",
    "# Pulling in changes video -- https://www.youtube.com/playlist?list=PLqPfbT7gwVP_AlE6HeDQUJsG4nUbGyeh3\n",
    "from IPython.display import YouTubeVideo\n",
    "YouTubeVideo(\"rRRNUUyxJ_I\",width=640,height=360, cc_load_policy=True)\n",
    "##ANSWER##"
   ]
  },
  {
   "cell_type": "markdown",
   "metadata": {},
   "source": [
    "Problems can occur if both you and the developer make changes to the same file.  ```git``` is smart and can figure out how to automatically \"merge\" many changes but if there is a conflict you may have to figure out what to do.  The easiest thing you can do is:\n",
    "\n",
    "1. Delete your changes\n",
    "2. Rename your files (effectively getting rid of your changes\n",
    "3. Add/commit your changes (This one is advanced and will be covered later)\n",
    "\n",
    "First, check to see what files are in conflict by running the ```get status``` command:\n",
    "\n",
    "```bash\n",
    "git status\n",
    "```\n",
    "\n",
    "You can look at the changes you made by running the ```git diff FILENAME``` command.  This should show you what you added (Lines with a + before them) and what you deleted (lines with a - before them)\n",
    "\n",
    "\n",
    "Once you have determined what you want to keep, make a copy of the file with a different name and then move on to the next step. \n",
    "\n",
    "You can also reset (overwrite) all of the changes to your local files by \"checking out\" the original file.  The ```git checkout FILENAME``` command gets a copy of the file file before your changes were made and overrides your changes.  \n",
    "\n",
    "```bash\n",
    "git checkout FILENAME\n",
    "```\n",
    "\n",
    "Once all of the conflicts have been removed you can then go back and pull in the changes from the developer:\n",
    "\n",
    "```bash\n",
    "git pull\n",
    "```\n",
    "\n",
    "<center>\n",
    "<iframe width=\"576\" height=\"360\" src=\"https://www.youtube.com/embed/bLHxdHKv1_c\" frameborder=\"0\" allow=\"accelerometer; autoplay; encrypted-media; gyroscope; picture-in-picture\" allowfullscreen></iframe>\n",
    "</center>\n"
   ]
  },
  {
   "cell_type": "markdown",
   "metadata": {},
   "source": [
    "##ANSWER##\n",
    "\n",
    "### TODO to \"Git Chekcout / Pull Demo\" Video\n",
    "\n",
    "- Probably needs re-recording completely.\n",
    "- Audio in this demo is not very good at all.  Needs fixing. \n",
    "- Summary of commands is wrong (below is right)\n",
    "\n",
    "\n",
    "##ANSWER##"
   ]
  },
  {
   "cell_type": "code",
   "execution_count": null,
   "metadata": {},
   "outputs": [],
   "source": [
    "##ANSWER##\n",
    "# Git Checkout / Pull Demo - - https://www.youtube.com/playlist?list=PLqPfbT7gwVP_AlE6HeDQUJsG4nUbGyeh3\n",
    "from IPython.display import YouTubeVideo\n",
    "YouTubeVideo(\"bLHxdHKv1_c\",width=640,height=360, cc_load_policy=True)\n",
    "##ANSWER##"
   ]
  },
  {
   "cell_type": "markdown",
   "metadata": {},
   "source": [
    "Review of commands used in video:\n",
    "```bash \n",
    "git fetch\n",
    "git status\n",
    "cp FILENAME BKUPFILENAME\n",
    "git diff FILENAME\n",
    "git checkout FILENAME\n",
    "git pull\n",
    "```"
   ]
  },
  {
   "cell_type": "markdown",
   "metadata": {},
   "source": [
    "-----\n",
    "<a name=\"Producing_Files\"></a>\n",
    "# Part two - Producing Files\n",
    "\n",
    "\n",
    "<a name=\"Making_your_own_repository\"></a>\n",
    "## Making your own repository\n",
    "\n",
    "Now that we are more familiar with git we can make your own repository.  If you plan on using one of the web services such as [Github](http://github.com) or [Gitlab](http://gitlab.com) (there are many others) then you can use their web interface to create a new project and then just clone the empty repository to your local machine. Often the web interfaces have some nice features to add some default files that are common in most repositories (ex. README.md and .gitignore)\n",
    "\n",
    "However in this step we are going to assume that you have a directory with a few files already in it that you want to turn into a git repository.  In this case you can just change to the git directory and issue the following git initialization command:\n",
    "\n",
    "```bash\n",
    "git init .\n",
    "```\n",
    "(**_Note:_** the dot in this command. It said to initialize the \"current\" directory and is very important to include)"
   ]
  },
  {
   "cell_type": "markdown",
   "metadata": {},
   "source": [
    "Once you have successfully initialized the directory you can add files using the following commands (substitute these FILENAMES with yours):\n",
    "\n",
    "```bash\n",
    "git add FILENAME1 FILENAME2 FILENAME3\n",
    "git add FILENAME4\n",
    "git commit -m \"Initial commit\"\n",
    "```"
   ]
  },
  {
   "cell_type": "markdown",
   "metadata": {},
   "source": [
    "**_WARNING_** ```git``` repositories work best with text based files.  \n",
    "\n",
    "\n",
    "<center>\n",
    "<iframe width=\"576\" height=\"360\" src=\"https://www.youtube.com/embed/IAAv4DjYYUA\" frameborder=\"0\" allow=\"accelerometer; autoplay; encrypted-media; gyroscope; picture-in-picture\" allowfullscreen></iframe>\n",
    "</center>\n"
   ]
  },
  {
   "cell_type": "markdown",
   "metadata": {},
   "source": [
    "##ANSWER##\n",
    "\n",
    "### TODO to \"Git init\" Video\n",
    "* The end of the video alludes to you having introduced the `git log` command, but I think you meant `git status`\n",
    "\n",
    "##ANSWER##"
   ]
  },
  {
   "cell_type": "code",
   "execution_count": null,
   "metadata": {},
   "outputs": [],
   "source": [
    "##ANSWER##\n",
    "# Git Init -- https://www.youtube.com/playlist?list=PLqPfbT7gwVP_AlE6HeDQUJsG4nUbGyeh3\n",
    "from IPython.display import YouTubeVideo\n",
    "YouTubeVideo(\"IAAv4DjYYUA\",width=640,height=360, cc_load_policy=True)\n",
    "##ANSWER##"
   ]
  },
  {
   "cell_type": "markdown",
   "metadata": {},
   "source": [
    "Review of commands used in video:\n",
    "```bash\n",
    "git init .\n",
    "git add FILENAMES\n",
    "git commit -m \"DESCRIPTION\"\n",
    "git status\n",
    "```"
   ]
  },
  {
   "cell_type": "markdown",
   "metadata": {},
   "source": [
    "Here is a tutorial on how to create a new git repository using the [MSU GitLab](http://gitlab.msu.edu) website:\n",
    "\n",
    "<center>\n",
    "<iframe width=\"576\" height=\"360\" src=\"https://www.youtube.com/embed/6_cegMFG0Pw\" frameborder=\"0\" allow=\"accelerometer; autoplay; encrypted-media; gyroscope; picture-in-picture\" allowfullscreen></iframe>\n",
    "</center>\n"
   ]
  },
  {
   "cell_type": "markdown",
   "metadata": {},
   "source": [
    "##ANSWER##\n",
    "\n",
    "### TODO to \"GitLab Init\" Video\n",
    "\n",
    "- Video starts out quiet.  Gets louder 5 seconds in.\n",
    "\n",
    "\n",
    "##ANSWER##"
   ]
  },
  {
   "cell_type": "code",
   "execution_count": null,
   "metadata": {},
   "outputs": [],
   "source": [
    "##ANSWER##\n",
    "# GitLab Init - - https://www.youtube.com/playlist?list=PLqPfbT7gwVP_AlE6HeDQUJsG4nUbGyeh3\n",
    "from IPython.display import YouTubeVideo\n",
    "YouTubeVideo(\"6_cegMFG0Pw\",width=640,height=360, cc_load_policy=True)\n",
    "\n",
    "##ANSWER##"
   ]
  },
  {
   "cell_type": "markdown",
   "metadata": {},
   "source": [
    "Review of commands used in video:\n",
    "```bash\n",
    "git clone PROJECT\n",
    "cat > FILENMAE\n",
    "git add FILENAME\n",
    "git status\n",
    "git commit -m \"DESCRIPTION\"\n",
    "git log\n",
    "git push\n",
    "```"
   ]
  },
  {
   "cell_type": "markdown",
   "metadata": {},
   "source": [
    "Similarly, here is a tutorial on how to create a new git repository using the [GitHub.com](http://github.com) website:\n",
    "\n",
    "<center>\n",
    "<iframe width=\"576\" height=\"360\" src=\"https://www.youtube.com/embed/dpeHlFm8SYU\" frameborder=\"0\" allow=\"accelerometer; autoplay; encrypted-media; gyroscope; picture-in-picture\" allowfullscreen></iframe>\n",
    "</center>\n"
   ]
  },
  {
   "cell_type": "markdown",
   "metadata": {},
   "source": [
    "##ANSWER##\n",
    "\n",
    "### TODO to \"Github Init\" Video\n",
    "\n",
    "\n",
    "##ANSWER##"
   ]
  },
  {
   "cell_type": "code",
   "execution_count": null,
   "metadata": {},
   "outputs": [],
   "source": [
    "##ANSWER##\n",
    "# GitHub Init -- https://www.youtube.com/playlist?list=PLqPfbT7gwVP_AlE6HeDQUJsG4nUbGyeh3\n",
    "from IPython.display import YouTubeVideo\n",
    "YouTubeVideo(\"dpeHlFm8SYU\",width=640,height=360, cc_load_policy=True)\n",
    "\n",
    "##ANSWER##"
   ]
  },
  {
   "cell_type": "markdown",
   "metadata": {},
   "source": [
    "Review of Commands used in video:\n",
    "\n",
    "``` bash\n",
    "git clone URL\n",
    "ls -lah\n",
    "git status\n",
    "```"
   ]
  },
  {
   "cell_type": "markdown",
   "metadata": {},
   "source": [
    "<a name=\"Updating_your_Repository\"></a>\n",
    "\n",
    "## Updating your Repository\n",
    "\n",
    "Now that you have created a repository you want to get good at committing changes.  It is important that modifications are committed early and often so that git can do what it does well and track your files.  Committing files is a two step process.\n",
    "\n",
    "1. First you want to use the ```git add FILENAME``` command to add new files or files you have changed to your \"cart\". Ideally the changes are related to each other. \n",
    "\n",
    "\n",
    "```bash\n",
    "    git add FILENAME\n",
    "```\n",
    "\n",
    "2. Once all of the files have been added to your \"cart\" you can commit them by using the ```git commit -m \"COMMIT MESSAGE\"``` command.  In this case the \"COMMIT MESSAGE\" is a note describing what you did.  It is important that the note is a good description so you can find it later if you need it.  \n",
    "\n",
    "```bash\n",
    "    git commit -m \"COMMIT MESSAGE\"\n",
    "```\n",
    "\n",
    "Once you have committed your changes you may also want to issue a ```git push``` to push your changes up to the centralized repository (github or gitlab) as a safe backup and to share with your collaborators. \n",
    "\n",
    "```bash\n",
    "    git push \n",
    "```\n",
    "\n",
    "<center>\n",
    "<iframe width=\"576\" height=\"360\" src=\"https://www.youtube.com/embed/GTM-h5xX2Lk\" frameborder=\"0\" allow=\"accelerometer; autoplay; encrypted-media; gyroscope; picture-in-picture\" allowfullscreen></iframe>\n",
    "</center>"
   ]
  },
  {
   "cell_type": "markdown",
   "metadata": {},
   "source": [
    "##ANSWER##\n",
    "\n",
    "### TODO to \"Git Add/Commit\" Video\n",
    "\n",
    "- Audio is a little off. Light fuse in background.\n",
    "- Fix fuze out at beginnign to cover images as well as names. Ex. you can still see Ali.\n",
    "- Weird pause before final CMSE\n",
    "\n",
    "##ANSWER##"
   ]
  },
  {
   "cell_type": "code",
   "execution_count": null,
   "metadata": {},
   "outputs": [],
   "source": [
    "##ANSWER##\n",
    "# Git add and commit - - https://www.youtube.com/playlist?list=PLqPfbT7gwVP_AlE6HeDQUJsG4nUbGyeh3\n",
    "from IPython.display import YouTubeVideo\n",
    "YouTubeVideo(\"GTM-h5xX2Lk\",width=640,height=360, cc_load_policy=True)\n",
    "\n",
    "##ANSWER##"
   ]
  },
  {
   "cell_type": "markdown",
   "metadata": {},
   "source": [
    "Review of commands used in video:\n",
    "``` bash\n",
    "ls\n",
    "ls -lah\n",
    "git log\n",
    "cd FOLDERNAME\n",
    "cat > NEWFILENAME\n",
    "python NEWFILENAME.py\n",
    "pytest NEWTESTFILE.py\n",
    "cat status\n",
    "vi FILENAME\n",
    "fg\n",
    "git add FOLDERNAME/FILENAME\n",
    "git commit -m \"DESCRIPTION\n",
    "git push\n",
    "```"
   ]
  },
  {
   "cell_type": "markdown",
   "metadata": {},
   "source": [
    "<a name=\"Your_First_Branch\"></a>\n",
    "\n",
    "## Your First Branch\n",
    "\n",
    "Branches are a powerful and important tool when using git.  However, it amazes me how many people use git without ever touching branches.  So, I guess you don't need them but once you understand how they work you can see their power and will find ways to use them all the time (sort of like git itself). \n",
    "\n",
    "Branches are where you should do your work.  Branches are a safe place to store changes to files.  Anytime you want to change files you should make sure you are making and committing those changes to a branch.  \n",
    "\n",
    "To create a branch just type the following:\n",
    "\n",
    "```bash\n",
    "    git branch BRANCHNAME\n",
    "```\n",
    "\n",
    "Once you have a branch you can list all of your branches (including the default \"master\" branch) and see which one you are on using the following command:\n",
    "\n",
    "```bash\n",
    "    git branch\n",
    "```\n",
    "\n",
    "To switch between branches just use the ```git checkout``` command with the BRANCHNAME:\n",
    "\n",
    "```bash\n",
    "    git checkout BRANCHNAME\n",
    "```\n",
    "    \n",
    "<center>\n",
    "<iframe width=\"576\" height=\"360\" src=\"https://www.youtube.com/embed/X0jbrdemjjs\" frameborder=\"0\" allow=\"accelerometer; autoplay; encrypted-media; gyroscope; picture-in-picture\" allowfullscreen></iframe>\n",
    "</center>\n"
   ]
  },
  {
   "cell_type": "markdown",
   "metadata": {},
   "source": [
    "##ANSWER##\n",
    "\n",
    "### TODO to \"Git Branch\" Video\n",
    "\n",
    "- Sounds like I am in a box.\n",
    "\n",
    "##ANSWER##"
   ]
  },
  {
   "cell_type": "code",
   "execution_count": null,
   "metadata": {},
   "outputs": [],
   "source": [
    "##ANSWER##\n",
    "# Creating a branch -- https://www.youtube.com/playlist?list=PLqPfbT7gwVP_AlE6HeDQUJsG4nUbGyeh3\n",
    "from IPython.display import YouTubeVideo\n",
    "YouTubeVideo(\"X0jbrdemjjs\",width=640,height=360, cc_load_policy=True)\n",
    "##ANSWER##"
   ]
  },
  {
   "cell_type": "markdown",
   "metadata": {},
   "source": [
    "Review of commands used in video:\n",
    "``` bash\n",
    "git status\n",
    "git pull\n",
    "ls\n",
    "ls -lah\n",
    "clear\n",
    "git branch\n",
    "git branch BRANCHNAME\n",
    "git checkout BRANCHNAME\n",
    "vi FILENAME\n",
    "cat > NEWFILENAME\n",
    "git add FILENAME NEWFILENAME\n",
    "git commit -m \"DESCRIPTION\"\n",
    "```"
   ]
  },
  {
   "cell_type": "markdown",
   "metadata": {},
   "source": [
    "<a name=\"Pulling_in_a_new_branch\"></a>\n",
    "\n",
    "## Pulling in a new branch\n",
    "\n",
    "So now we have two branches. The master branch has all of the changes made by the primary developer (ex. the instructor).  The second branch has a name you provide (\"Test\" in this video). This secondary branch is where you do all of your work and commit your changes.  Now you want to update your branch with changes from the master.  To do this we just need to run the ```git merge``` command and fix any conflicts.\n",
    "\n",
    "    \n",
    "<center>\n",
    "<iframe width=\"576\" height=\"360\" src=\"https://www.youtube.com/embed/Byp7TFk5jYw\" frameborder=\"0\" allow=\"accelerometer; autoplay; encrypted-media; gyroscope; picture-in-picture\" allowfullscreen></iframe>\n",
    "</center>"
   ]
  },
  {
   "cell_type": "markdown",
   "metadata": {},
   "source": [
    "##ANSWER##\n",
    "\n",
    "### TODO to \"Git Merge a Branch\" Video\n",
    "\n",
    "- \n",
    "\n",
    "##ANSWER##"
   ]
  },
  {
   "cell_type": "code",
   "execution_count": null,
   "metadata": {},
   "outputs": [],
   "source": [
    "##ANSWER##\n",
    "# Merging a branch -- https://www.youtube.com/playlist?list=PLqPfbT7gwVP_AlE6HeDQUJsG4nUbGyeh3\n",
    "from IPython.display import YouTubeVideo\n",
    "YouTubeVideo(\"Byp7TFk5jYw\",width=576,height=360, cc_load_policy=True)\n",
    "##ANSWER##"
   ]
  },
  {
   "cell_type": "markdown",
   "metadata": {},
   "source": [
    "Review of commands used in video:\n",
    "``` bash\n",
    "git branch\n",
    "cat > NEWSFILENAME\n",
    "vi FILENAME\n",
    "git add NEWFILENAME FILENAME\n",
    "git push\n",
    "git pull\n",
    "ls\n",
    "cat FILENAME\n",
    "cat NEWFILENAME\n",
    "git checkout BRANCH\n",
    "git merge origin master\n",
    "```"
   ]
  },
  {
   "cell_type": "markdown",
   "metadata": {},
   "source": [
    "## Resolving conflicts in Jupyter Notebooks\n",
    "\n",
    "Jupyter notebooks can be tricky to merge since it is in a JSON file format that gets changed each time you run the file which causes git to think you changed the file. \n",
    "\n",
    "<center>\n",
    "<iframe width=\"576\" height=\"360\" src=\"https://www.youtube.com/embed/79hW_TzLos8\" frameborder=\"0\" allow=\"accelerometer; autoplay; encrypted-media; gyroscope; picture-in-picture\" allowfullscreen></iframe>\n",
    "</center>"
   ]
  },
  {
   "cell_type": "markdown",
   "metadata": {},
   "source": [
    "##ANSWER##\n",
    "\n",
    "### TODO to \"Jupyter and Git\" Video\n",
    "\n",
    "- This one is broken!!! around 1:50-3:50 into the vidoe.  Need to fix the zoom option.\n",
    "    \n",
    "\n",
    "##ANSWER##"
   ]
  },
  {
   "cell_type": "code",
   "execution_count": null,
   "metadata": {},
   "outputs": [],
   "source": [
    "##ANSWER##\n",
    "# Jupyter and git -- https://www.youtube.com/playlist?list=PLqPfbT7gwVP_AlE6HeDQUJsG4nUbGyeh3\n",
    "\n",
    "from IPython.display import YouTubeVideo\n",
    "YouTubeVideo(\"79hW_TzLos8\",width=576,height=360, cc_load_policy=True)\n",
    "##ANSWER##"
   ]
  },
  {
   "cell_type": "markdown",
   "metadata": {},
   "source": [
    "``` bash\n",
    "git \n",
    "git checkout FILENAME\n",
    "git status\n",
    "```"
   ]
  },
  {
   "cell_type": "markdown",
   "metadata": {},
   "source": [
    "-----\n",
    "<a name=\"Collaborating\"></a>\n",
    "# Part three - Collaborating\n",
    "Up until now we have been mostly consumers or primary developers of our git repository. Now we want to think about how give some of our changes to other developers and be part of a community of software developers.   The goal being actual collaboration without getting into each other's way.  "
   ]
  },
  {
   "cell_type": "markdown",
   "metadata": {},
   "source": [
    "<a name=\"Issuing_a_pull_merge_request\"></a>\n",
    "## Issuing a pull/merge request\n",
    "\n",
    "The idea is that we package up all of our suggested changes inside a branch and then \"send\" that branch to the lead developers for review. If they like what they see they can pull or merge (two words to basically mean the same thing) our branch into their master branch.  This process has been given the name \"pull request\" or \"merge request\" depending on what system you are working on.  \n",
    "\n",
    "The idea behind a pull/merge request is so common that [github.com](http://github.com) and [gitlab.msu.edu](http://gitlab.msu.edu) both have the commands built right into the web interface to make the process as easy as possible.  \n",
    "\n",
    "The following video will walk you though a basic pull/merge request when you have write permissions on a repository.  This is common for small groups but less common on big open source software projects.  Most of the time developers do not have write permissions on the master branch (see next video for this, more common, case). \n",
    "\n",
    "<center>\n",
    "<iframe width=\"576\" height=\"360\" src=\"https://www.youtube.com/embed/pcn6AdM0qB4\" frameborder=\"0\" allow=\"accelerometer; autoplay; encrypted-media; gyroscope; picture-in-picture\" allowfullscreen></iframe>\n",
    "</center>\n"
   ]
  },
  {
   "cell_type": "markdown",
   "metadata": {},
   "source": [
    "##ANSWER##\n",
    "\n",
    "### TODO to \"Git Pull Request\" Video\n",
    "\n",
    "\n",
    "##ANSWER##"
   ]
  },
  {
   "cell_type": "code",
   "execution_count": null,
   "metadata": {},
   "outputs": [],
   "source": [
    "##ANSWER##\n",
    "# Git Pull Request - https://www.youtube.com/playlist?list=PLqPfbT7gwVP_AlE6HeDQUJsG4nUbGyeh3\n",
    "from IPython.display import YouTubeVideo\n",
    "YouTubeVideo(\"pcn6AdM0qB4\",width=576,height=360, cc_load_policy=True)\n",
    "##ANSWER##"
   ]
  },
  {
   "cell_type": "markdown",
   "metadata": {},
   "source": [
    "Review of commands used in video:\n",
    "``` bash\n",
    "pwd\n",
    "ls\n",
    "git status\n",
    "git branch BRANCHNAME\n",
    "git checkout BRANCHNAME\n",
    "clear\n",
    "vi FILENAME\n",
    "cat FILENAME\n",
    "git add FILENAME\n",
    "git commit -m \"DESCRIPTION\"\n",
    "git push origin BRANCHNAME\n",
    "```"
   ]
  },
  {
   "cell_type": "markdown",
   "metadata": {},
   "source": [
    "<a name=\"Forking_a_repository\"></a>\n",
    "\n",
    "## Forking a repository\n",
    "\n",
    "A more common case for working as a collaborator to a repository is to work from your own copy (also known as a fork), develop your changes on your branch and then use github or gitlab to take your committed branch and use it to issue a pull/merge request.  \n",
    "\n",
    "This video describes the process of forking a repository and issuing a pull request.  \n",
    "\n",
    "\n",
    "<center>\n",
    "<iframe width=\"576\" height=\"360\" src=\"https://www.youtube.com/embed/ZkKtzHtzEvQ\" frameborder=\"0\" allow=\"accelerometer; autoplay; encrypted-media; gyroscope; picture-in-picture\" allowfullscreen></iframe>\n",
    "</center>"
   ]
  },
  {
   "cell_type": "markdown",
   "metadata": {},
   "source": [
    "##ANSWER##\n",
    "\n",
    "### TODO to \"Forking Pull Request\" Video\n",
    "\n",
    "\n",
    "##ANSWER##"
   ]
  },
  {
   "cell_type": "code",
   "execution_count": null,
   "metadata": {},
   "outputs": [],
   "source": [
    "##ANSWER##\n",
    "# Forking Pull Request - https://www.youtube.com/playlist?list=PLqPfbT7gwVP_AlE6HeDQUJsG4nUbGyeh3\n",
    "from IPython.display import YouTubeVideo\n",
    "YouTubeVideo(\"ZkKtzHtzEvQ\",width=576,height=360, cc_load_policy=True)\n",
    "##ANSWER##"
   ]
  },
  {
   "cell_type": "markdown",
   "metadata": {},
   "source": [
    "Review of commands used in video:\n",
    "``` bash\n",
    "git clone URL\n",
    "cd FOLDER\n",
    "ls\n",
    "git branch BRANCHNAME\n",
    "git checkout BRANCHNAME\n",
    "git status\n",
    "vi FILENAME\n",
    "git add FILENAME\n",
    "git commit -m \"DESCRIPTION\"\n",
    "git push orign BRANCHNAME\n",
    "```"
   ]
  },
  {
   "cell_type": "markdown",
   "metadata": {},
   "source": [
    "<a name=\"Managing_the_Upstream\"></a>\n",
    "\n",
    "## Managing the Upstream (a.k.a. Brining in collaborators changes)\n",
    "\n",
    "\n",
    "<center>\n",
    "<iframe width=\"576\" height=\"360\" src=\"https://www.youtube.com/embed/jTWRyUIZAys\" frameborder=\"0\" allow=\"accelerometer; autoplay; encrypted-media; gyroscope; picture-in-picture\" allowfullscreen></iframe>\n",
    "</center>\n"
   ]
  },
  {
   "cell_type": "markdown",
   "metadata": {},
   "source": [
    "##ANSWER##\n",
    "\n",
    "### TODO to \"Managing the Upstream\" Video\n",
    "\n",
    "- Remove navigation \"alt-tab\" keystroke in video less 10 min in\n",
    "- Slight blink at 14:20 where the git merge error was edited. \n",
    "\n",
    "##ANSWER##"
   ]
  },
  {
   "cell_type": "code",
   "execution_count": null,
   "metadata": {},
   "outputs": [],
   "source": [
    "##ANSWER##\n",
    "# Managing the Upstream - https://www.youtube.com/playlist?list=PLqPfbT7gwVP_AlE6HeDQUJsG4nUbGyeh3\n",
    "from IPython.display import YouTubeVideo\n",
    "YouTubeVideo(\"jTWRyUIZAys\",width=576,height=360, cc_load_policy=True)\n",
    "##ANSWER##"
   ]
  },
  {
   "cell_type": "markdown",
   "metadata": {},
   "source": [
    "Review of commands used in video:\n",
    "``` bash\n",
    "git clone URL\n",
    "git branch BRANCHNAME\n",
    "git checkout BRANCHNAME\n",
    "cat > FILENAME\n",
    "git add FILENAME\n",
    "git commit -m \"DESCRIPTION\" \n",
    "git remote add REMOTENAME URL\n",
    "git fetch REMOTENAME\n",
    "git config -l \n",
    "git remote add \n",
    "git fetch\n",
    "git rebase REMOTENAME/master\n",
    "git merge origin master\n",
    "```"
   ]
  },
  {
   "cell_type": "code",
   "execution_count": null,
   "metadata": {},
   "outputs": [],
   "source": [
    "##ANSWER## \n",
    "#this cell gets the name of the current notebook.\n",
    "from jupyterinstruct import makestudent\n",
    "makestudent.getname()\n",
    "\n",
    "import thiscourse\n",
    "tags = thiscourse.tags()\n",
    "##ANSWER## "
   ]
  },
  {
   "cell_type": "code",
   "execution_count": null,
   "metadata": {},
   "outputs": [],
   "source": [
    "##ANSWER## \n",
    "#This cell runs the converter which removes ANSWER feilds, renames the notebook and cleans out output fields. \n",
    "makestudent.merge(this_notebook, \"./\"+tags['COURSE_CODE']+\"/\", tags)\n",
    "##ANSWER## "
   ]
  },
  {
   "cell_type": "markdown",
   "metadata": {},
   "source": [
    "Written by Dirk Colbry, Michigan State University\n",
    "<a rel=\"license\" href=\"http://creativecommons.org/licenses/by-nc/4.0/\"><img alt=\"Creative Commons License\" style=\"border-width:0\" src=\"https://i.creativecommons.org/l/by-nc/4.0/88x31.png\" /></a><br />This work is licensed under a <a rel=\"license\" href=\"http://creativecommons.org/licenses/by-nc/4.0/\">Creative Commons Attribution-NonCommercial 4.0 International License</a>."
   ]
  }
 ],
 "metadata": {
  "kernelspec": {
   "display_name": "Python 3",
   "language": "python",
   "name": "python3"
  },
  "language_info": {
   "codemirror_mode": {
    "name": "ipython",
    "version": 3
   },
   "file_extension": ".py",
   "mimetype": "text/x-python",
   "name": "python",
   "nbconvert_exporter": "python",
   "pygments_lexer": "ipython3",
   "version": "3.8.3"
  }
 },
 "nbformat": 4,
 "nbformat_minor": 4
}
